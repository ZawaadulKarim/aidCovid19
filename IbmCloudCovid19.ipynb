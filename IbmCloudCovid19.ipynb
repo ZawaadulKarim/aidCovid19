{
 "cells": [
  {
   "cell_type": "code",
   "execution_count": 436,
   "metadata": {
    "colab": {
     "base_uri": "https://localhost:8080/",
     "height": 87
    },
    "colab_type": "code",
    "executionInfo": {
     "elapsed": 3354,
     "status": "ok",
     "timestamp": 1587959204201,
     "user": {
      "displayName": "Ajmain Naqib",
      "photoUrl": "https://lh3.googleusercontent.com/a-/AOh14GhhKSJySy-7u5m7AnlSmnYnKEEc1nb-WOMxCz2eLXg=s64",
      "userId": "11591356358542650398"
     },
     "user_tz": 300
    },
    "id": "JUav-Q7fu1mf",
    "outputId": "6dab68a6-d96d-4ce3-e46f-1a5bc1979990"
   },
   "outputs": [
    {
     "name": "stdout",
     "output_type": "stream",
     "text": [
      "Requirement already satisfied: faker in /anaconda3/lib/python3.7/site-packages (4.0.3)\n",
      "Requirement already satisfied: python-dateutil>=2.4 in /anaconda3/lib/python3.7/site-packages (from faker) (2.8.0)\n",
      "Requirement already satisfied: text-unidecode==1.3 in /anaconda3/lib/python3.7/site-packages (from faker) (1.3)\n",
      "Requirement already satisfied: six>=1.5 in /anaconda3/lib/python3.7/site-packages (from python-dateutil>=2.4->faker) (1.12.0)\n",
      "Note: you may need to restart the kernel to use updated packages.\n"
     ]
    }
   ],
   "source": [
    "pip install faker"
   ]
  },
  {
   "cell_type": "code",
   "execution_count": 437,
   "metadata": {
    "colab": {},
    "colab_type": "code",
    "id": "WWii_F1NuNwH"
   },
   "outputs": [],
   "source": [
    "from cloudant.client import Cloudant\n",
    "from cloudant.error import CloudantException\n",
    "from cloudant.result import Result, ResultByKey\n",
    "from datetime import datetime\n",
    "from faker import Faker\n",
    "import random\n",
    "import json"
   ]
  },
  {
   "cell_type": "code",
   "execution_count": 438,
   "metadata": {
    "colab": {},
    "colab_type": "code",
    "id": "rfTsE5CLuSoV"
   },
   "outputs": [],
   "source": [
    "username = \"8c6b43fe-21d2-4fe1-9a35-f16ed4b5bc8c-bluemix\"\n",
    "password = \"_BZzLTTJK8Bw3D17DM76Em34GLlzW-_3o5RpA9c1oZnR\"\n",
    "client = Cloudant.iam(username, password)\n",
    "client.connect()\n",
    "databaseName = \"maindatabase\"\n",
    "mainDatabase = client.create_database(databaseName)"
   ]
  },
  {
   "cell_type": "code",
   "execution_count": 439,
   "metadata": {
    "colab": {
     "base_uri": "https://localhost:8080/",
     "height": 54
    },
    "colab_type": "code",
    "executionInfo": {
     "elapsed": 597,
     "status": "ok",
     "timestamp": 1587959424909,
     "user": {
      "displayName": "Ajmain Naqib",
      "photoUrl": "https://lh3.googleusercontent.com/a-/AOh14GhhKSJySy-7u5m7AnlSmnYnKEEc1nb-WOMxCz2eLXg=s64",
      "userId": "11591356358542650398"
     },
     "user_tz": 300
    },
    "id": "kkEMX0c0vG1u",
    "outputId": "31a825ae-0ec5-496b-8465-6a49f93b1dff"
   },
   "outputs": [
    {
     "name": "stdout",
     "output_type": "stream",
     "text": [
      "[(35.74788, -88.3162), (30.17746, -76.51552), (39.45621, -116.56346), (29.65163, -76.72803), (28.15112, -96.39774)]\n"
     ]
    }
   ],
   "source": [
    "fake = Faker()\n",
    "Faker.seed(4321)\n",
    "location_list = []\n",
    "for i in range(5):\n",
    "    location_list.append((float(fake.local_latlng()[0]), float(fake.local_latlng()[1])))\n",
    "print(location_list)"
   ]
  },
  {
   "cell_type": "code",
   "execution_count": 440,
   "metadata": {
    "colab": {
     "base_uri": "https://localhost:8080/",
     "height": 34
    },
    "colab_type": "code",
    "executionInfo": {
     "elapsed": 625,
     "status": "ok",
     "timestamp": 1587959441330,
     "user": {
      "displayName": "Ajmain Naqib",
      "photoUrl": "https://lh3.googleusercontent.com/a-/AOh14GhhKSJySy-7u5m7AnlSmnYnKEEc1nb-WOMxCz2eLXg=s64",
      "userId": "11591356358542650398"
     },
     "user_tz": 300
    },
    "id": "F7hXw2QIvHVa",
    "outputId": "5cc2e0a9-d950-4d94-e29a-120230229fab"
   },
   "outputs": [
    {
     "name": "stdout",
     "output_type": "stream",
     "text": [
      "[{'GooglePlaceID': 'ChIJs--MqP1YwokRBwAhjXWIHn8', 'Coordinates': (35.74788, -88.3162)}, {'GooglePlaceID': 'ChIJRZv8MU7gtYcRKKC5VXD8wXc', 'Coordinates': (30.17746, -76.51552)}, {'GooglePlaceID': 'ChIJr46dPFY25IgRVZvncDr516U', 'Coordinates': (39.45621, -116.56346)}, {'GooglePlaceID': 'ChIJJzds9ivbyYkRThGcZ8l4NJQ', 'Coordinates': (29.65163, -76.72803)}, {'GooglePlaceID': 'ChIJKyy_aSEg5ogRlo0QKF1554A', 'Coordinates': (28.15112, -96.39774)}]\n"
     ]
    }
   ],
   "source": [
    "googlePlaceNycHallID = \"ChIJs--MqP1YwokRBwAhjXWIHn8\"\n",
    "googlePlaceMuskogeeID = \"ChIJRZv8MU7gtYcRKKC5VXD8wXc\"\n",
    "googlePlacePalmValleyID = \"ChIJr46dPFY25IgRVZvncDr516U\"\n",
    "googlePlaceCloverHillID = \"ChIJJzds9ivbyYkRThGcZ8l4NJQ\"\n",
    "googlePlaceGainesVilleID = \"ChIJKyy_aSEg5ogRlo0QKF1554A\"\n",
    "geoJsonNycHall = {\"GooglePlaceID\": googlePlaceNycHallID, \"Coordinates\": location_list[0]}\n",
    "geoJsonMuskogee = {\"GooglePlaceID\": googlePlaceMuskogeeID, \"Coordinates\":location_list[1]}\n",
    "geoJsonPalmValley = {\"GooglePlaceID\": googlePlacePalmValleyID, \"Coordinates\":location_list[2]}\n",
    "geoJsonCloverHill = {\"GooglePlaceID\": googlePlaceCloverHillID, \"Coordinates\":location_list[3]}\n",
    "geoJsonGainesVille = {\"GooglePlaceID\": googlePlaceGainesVilleID,\"Coordinates\":location_list[4]}\n",
    "\n",
    "geoJsonList = []\n",
    "geoJsonList.append(geoJsonNycHall)\n",
    "geoJsonList.append(geoJsonMuskogee)\n",
    "geoJsonList.append(geoJsonPalmValley)\n",
    "geoJsonList.append(geoJsonCloverHill)\n",
    "geoJsonList.append(geoJsonGainesVille)\n",
    "print(geoJsonList)\n",
    "\n"
   ]
  },
  {
   "cell_type": "code",
   "execution_count": 441,
   "metadata": {
    "colab": {
     "base_uri": "https://localhost:8080/",
     "height": 254
    },
    "colab_type": "code",
    "executionInfo": {
     "elapsed": 612,
     "status": "error",
     "timestamp": 1587959477606,
     "user": {
      "displayName": "Ajmain Naqib",
      "photoUrl": "https://lh3.googleusercontent.com/a-/AOh14GhhKSJySy-7u5m7AnlSmnYnKEEc1nb-WOMxCz2eLXg=s64",
      "userId": "11591356358542650398"
     },
     "user_tz": 300
    },
    "id": "m9CavlLXvJPL",
    "outputId": "d80bf7f1-9378-4c53-f51e-676738c5cf2b"
   },
   "outputs": [
    {
     "name": "stdout",
     "output_type": "stream",
     "text": [
      "79856523\n"
     ]
    }
   ],
   "source": [
    "def randomizeCondition() :\n",
    "    num = random.randint(0, 2)\n",
    "    if (num == 0) :\n",
    "        return \"Recovered/NoCovid19\"\n",
    "    if (num == 1) :\n",
    "        return \"PotentialCovid19\"\n",
    "    if (num == 2) :\n",
    "        return \"HasCovid19\"\n",
    "status = randomizeCondition()\n",
    "\n",
    "def randomizeVisitID() :\n",
    "    \n",
    "    return random.randint(0, 999999999)\n",
    "\n",
    "visit_id = randomizeVisitID()\n",
    "print(visit_id)\n",
    "\n",
    "customListVisitDictionary = [{str(geoJsonNycHall[\"Coordinates\"]):[randomizeVisitID(), datetime.__str__(datetime(2020, 3, 13)), randomizeCondition()]},\n",
    "                            {str(geoJsonNycHall[\"Coordinates\"]):[randomizeVisitID(), datetime.__str__(datetime(2020, 3, 13)), randomizeCondition()]},\n",
    "                            {str(geoJsonNycHall[\"Coordinates\"]):[randomizeVisitID(), datetime.__str__(datetime(2020, 3, 13)), randomizeCondition()]},\n",
    "                            {str(geoJsonNycHall[\"Coordinates\"]):[randomizeVisitID(), datetime.__str__(datetime(2020, 3, 13)), randomizeCondition()]},\n",
    "                            {str(geoJsonNycHall[\"Coordinates\"]):[randomizeVisitID(), datetime.__str__(datetime(2020, 3, 13)), randomizeCondition()]}]\n",
    "\n",
    "\n",
    "def initListVisitDictionary(geoJsonList) :\n",
    "    visitListDictionary = []\n",
    "    for i in range(5):\n",
    "        visitListDictionary.append({str(geoJsonList[i][\"Coordinates\"]):[randomizeVisitID(), datetime.__str__(datetime(2020, 3, 13)), randomizeCondition()]})     \n",
    "    return visitListDictionary\n",
    "\n",
    "ListVisitDictionary = initListVisitDictionary(geoJsonList)\n",
    "\n",
    "\n",
    "def randomizeTransactionID() :\n",
    "    return random.randint(0, 32800000)\n",
    "\n",
    "def randomizeContributionID() :\n",
    "    return random.randint(0, 32800000)\n",
    "\n",
    "def init_ListJsonDocument(ListVisitDictionary, geoJsonList):\n",
    "    ListJsonDocument = []\n",
    "    for i in range(len(geoJsonList)):\n",
    "        jsonDocument = {\n",
    "            \"TransactionID\" : randomizeTransactionID(),\n",
    "            \"ContributorID\" : randomizeContributionID(),\n",
    "            \"GeoLocation\": geoJsonList[i],\n",
    "            \"VisitDictionary\": ListVisitDictionary[i]     \n",
    "        }\n",
    "        type(jsonDocument)\n",
    "        ListJsonDocument.append(jsonDocument)\n",
    "    return ListJsonDocument\n",
    "\n"
   ]
  },
  {
   "cell_type": "code",
   "execution_count": 442,
   "metadata": {},
   "outputs": [
    {
     "name": "stdout",
     "output_type": "stream",
     "text": [
      "[{'(35.74788, -88.3162)': [296258854, '2020-03-13 00:00:00', 'HasCovid19']}, {'(30.17746, -76.51552)': [620237565, '2020-03-13 00:00:00', 'HasCovid19']}, {'(39.45621, -116.56346)': [152839336, '2020-03-13 00:00:00', 'PotentialCovid19']}, {'(29.65163, -76.72803)': [535667885, '2020-03-13 00:00:00', 'PotentialCovid19']}, {'(28.15112, -96.39774)': [894694269, '2020-03-13 00:00:00', 'PotentialCovid19']}]\n"
     ]
    }
   ],
   "source": [
    "print(ListVisitDictionary)"
   ]
  },
  {
   "cell_type": "code",
   "execution_count": 443,
   "metadata": {
    "colab": {
     "base_uri": "https://localhost:8080/",
     "height": 184
    },
    "colab_type": "code",
    "executionInfo": {
     "elapsed": 1067,
     "status": "error",
     "timestamp": 1587959455390,
     "user": {
      "displayName": "Ajmain Naqib",
      "photoUrl": "https://lh3.googleusercontent.com/a-/AOh14GhhKSJySy-7u5m7AnlSmnYnKEEc1nb-WOMxCz2eLXg=s64",
      "userId": "11591356358542650398"
     },
     "user_tz": 300
    },
    "id": "8pG3jbsHvUJX",
    "outputId": "af0e8e0e-340e-4654-dadc-24a7b2b43cb7"
   },
   "outputs": [
    {
     "data": {
      "text/plain": [
       "list"
      ]
     },
     "execution_count": 443,
     "metadata": {},
     "output_type": "execute_result"
    }
   ],
   "source": [
    "ListJsonDocument = init_ListJsonDocument(ListVisitDictionary, geoJsonList)\n",
    "type(customListVisitDictionary)\n"
   ]
  },
  {
   "cell_type": "code",
   "execution_count": 444,
   "metadata": {
    "colab": {},
    "colab_type": "code",
    "id": "WNcWxBvSvaBV"
   },
   "outputs": [],
   "source": [
    "def initListIBMDataBaseDocument(ListJsonDocument) :\n",
    "    ListIBMDataBaseDocument = []\n",
    "    for i in ListJsonDocument:\n",
    "        newDocument = mainDatabase.create_document(i)\n",
    "        ListIBMDataBaseDocument.append(newDocument)\n",
    "    return ListIBMDataBaseDocument\n",
    "ListIBMDataBaseDocument = initListIBMDataBaseDocument(ListJsonDocument)"
   ]
  },
  {
   "cell_type": "code",
   "execution_count": 445,
   "metadata": {},
   "outputs": [
    {
     "name": "stdout",
     "output_type": "stream",
     "text": [
      "[{'TransactionID': 7226532, 'ContributorID': 20832034, 'GeoLocation': {'GooglePlaceID': 'ChIJs--MqP1YwokRBwAhjXWIHn8', 'Coordinates': (35.74788, -88.3162)}, 'VisitDictionary': {'(35.74788, -88.3162)': [296258854, '2020-03-13 00:00:00', 'HasCovid19']}, '_id': 'ee51920e43b3f048c60c0c3c3207f978', '_rev': '1-b269259268af218f5bff5579343b1f32'}, {'TransactionID': 19914301, 'ContributorID': 8708241, 'GeoLocation': {'GooglePlaceID': 'ChIJRZv8MU7gtYcRKKC5VXD8wXc', 'Coordinates': (30.17746, -76.51552)}, 'VisitDictionary': {'(30.17746, -76.51552)': [620237565, '2020-03-13 00:00:00', 'HasCovid19']}, '_id': '83e7558b1745f0df1a17bce3511110ef', '_rev': '1-bc86f19abde5443372915b6313fe9a42'}, {'TransactionID': 16597127, 'ContributorID': 4728590, 'GeoLocation': {'GooglePlaceID': 'ChIJr46dPFY25IgRVZvncDr516U', 'Coordinates': (39.45621, -116.56346)}, 'VisitDictionary': {'(39.45621, -116.56346)': [152839336, '2020-03-13 00:00:00', 'PotentialCovid19']}, '_id': 'cc29fb9cf6a700d6dccd470bbab29f00', '_rev': '1-6b5eb971f00fe4970c5a51dc4faa8dbc'}, {'TransactionID': 14350459, 'ContributorID': 25296992, 'GeoLocation': {'GooglePlaceID': 'ChIJJzds9ivbyYkRThGcZ8l4NJQ', 'Coordinates': (29.65163, -76.72803)}, 'VisitDictionary': {'(29.65163, -76.72803)': [535667885, '2020-03-13 00:00:00', 'PotentialCovid19']}, '_id': '4ca9835f62482fef1a267c8fc4731e20', '_rev': '1-999d1243e76168e84c5ec207ec400ac2'}, {'TransactionID': 11037587, 'ContributorID': 2162513, 'GeoLocation': {'GooglePlaceID': 'ChIJKyy_aSEg5ogRlo0QKF1554A', 'Coordinates': (28.15112, -96.39774)}, 'VisitDictionary': {'(28.15112, -96.39774)': [894694269, '2020-03-13 00:00:00', 'PotentialCovid19']}, '_id': '55caf41a30959a56df69f4d862da3cba', '_rev': '1-f785a0d7f3ceea198139d756a449f1e7'}]\n"
     ]
    }
   ],
   "source": [
    "print(ListIBMDataBaseDocument)"
   ]
  },
  {
   "cell_type": "code",
   "execution_count": null,
   "metadata": {
    "colab": {},
    "colab_type": "code",
    "id": "mioIGgANvgkU"
   },
   "outputs": [],
   "source": []
  },
  {
   "cell_type": "code",
   "execution_count": 446,
   "metadata": {
    "colab": {},
    "colab_type": "code",
    "id": "s_9b31r4vkx2"
   },
   "outputs": [
    {
     "name": "stdout",
     "output_type": "stream",
     "text": [
      "{'(35.74788, -88.3162)': [829090750, '2020-03-13 00:00:00', 'PotentialCovid19']}\n",
      "{'(35.74788, -88.3162)': [457098481, '2020-03-13 00:00:00', 'PotentialCovid19']}\n",
      "{'(35.74788, -88.3162)': [977816415, '2020-03-13 00:00:00', 'PotentialCovid19']}\n",
      "{'(35.74788, -88.3162)': [555277930, '2020-03-13 00:00:00', 'Recovered/NoCovid19']}\n",
      "{'(35.74788, -88.3162)': [677509750, '2020-03-13 00:00:00', 'HasCovid19']}\n",
      "{(35.74788, -88.3162): 2.5}\n"
     ]
    }
   ],
   "source": [
    "def severityOfArea(ListVisitDictionary, geoJsonObject) :\n",
    "    locationSeverityDict = {}\n",
    "    highCount = 0\n",
    "    mediumCount = 0\n",
    "    lowCount = 0\n",
    "    highWeight = 1\n",
    "    mediumWeight = 0.5\n",
    "    lowWeight = 0\n",
    "    weightedSum = 0\n",
    "    for subDict in ListVisitDictionary:\n",
    "        print(subDict)\n",
    "        for key in subDict:\n",
    "            strGeoJsonCoordinates = str(geoJsonObject[\"Coordinates\"])\n",
    "            if (key == strGeoJsonCoordinates):\n",
    "                if (subDict[key][2].lower() == \"HasCovid19\".lower()):\n",
    "                    highCount = highCount + 1\n",
    "                elif (subDict[key][2].lower() == \"PotentialCovid19\".lower()):\n",
    "                    mediumCount = mediumCount + 1\n",
    "                else:\n",
    "                    lowCount = lowCount + 1\n",
    "    weightedSum = ((1 * highCount) + (0.5 * mediumCount) + (lowCount * lowWeight ))\n",
    "    locationSeverityDict[geoJsonObject[\"Coordinates\"]] = weightedSum\n",
    "    return locationSeverityDict\n",
    "\n",
    "LocationSeverityDict = severityOfArea(customListVisitDictionary, geoJsonNycHall)\n",
    "print(LocationSeverityDict)"
   ]
  },
  {
   "cell_type": "code",
   "execution_count": null,
   "metadata": {},
   "outputs": [],
   "source": []
  },
  {
   "cell_type": "code",
   "execution_count": null,
   "metadata": {},
   "outputs": [],
   "source": []
  },
  {
   "cell_type": "code",
   "execution_count": null,
   "metadata": {},
   "outputs": [],
   "source": []
  },
  {
   "cell_type": "code",
   "execution_count": null,
   "metadata": {},
   "outputs": [],
   "source": []
  },
  {
   "cell_type": "code",
   "execution_count": null,
   "metadata": {},
   "outputs": [],
   "source": []
  }
 ],
 "metadata": {
  "colab": {
   "authorship_tag": "ABX9TyM1gUL6kY++cvu8nLMzm68T",
   "name": "ibmCLoubCOVID.ipynb",
   "provenance": []
  },
  "kernelspec": {
   "display_name": "Python 3",
   "language": "python",
   "name": "python3"
  },
  "language_info": {
   "codemirror_mode": {
    "name": "ipython",
    "version": 3
   },
   "file_extension": ".py",
   "mimetype": "text/x-python",
   "name": "python",
   "nbconvert_exporter": "python",
   "pygments_lexer": "ipython3",
   "version": "3.7.3"
  }
 },
 "nbformat": 4,
 "nbformat_minor": 1
}
