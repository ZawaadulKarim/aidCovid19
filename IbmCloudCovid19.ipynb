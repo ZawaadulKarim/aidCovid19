{
 "cells": [
  {
   "cell_type": "code",
   "execution_count": 165,
   "metadata": {
    "colab": {
     "base_uri": "https://localhost:8080/",
     "height": 87
    },
    "colab_type": "code",
    "executionInfo": {
     "elapsed": 3354,
     "status": "ok",
     "timestamp": 1587959204201,
     "user": {
      "displayName": "Ajmain Naqib",
      "photoUrl": "https://lh3.googleusercontent.com/a-/AOh14GhhKSJySy-7u5m7AnlSmnYnKEEc1nb-WOMxCz2eLXg=s64",
      "userId": "11591356358542650398"
     },
     "user_tz": 300
    },
    "id": "JUav-Q7fu1mf",
    "outputId": "6dab68a6-d96d-4ce3-e46f-1a5bc1979990"
   },
   "outputs": [
    {
     "name": "stdout",
     "output_type": "stream",
     "text": [
      "Requirement already satisfied: faker in /anaconda3/lib/python3.7/site-packages (4.0.3)\n",
      "Requirement already satisfied: text-unidecode==1.3 in /anaconda3/lib/python3.7/site-packages (from faker) (1.3)\n",
      "Requirement already satisfied: python-dateutil>=2.4 in /anaconda3/lib/python3.7/site-packages (from faker) (2.8.0)\n",
      "Requirement already satisfied: six>=1.5 in /anaconda3/lib/python3.7/site-packages (from python-dateutil>=2.4->faker) (1.12.0)\n",
      "Note: you may need to restart the kernel to use updated packages.\n"
     ]
    }
   ],
   "source": [
    "pip install faker"
   ]
  },
  {
   "cell_type": "code",
   "execution_count": 166,
   "metadata": {
    "colab": {},
    "colab_type": "code",
    "id": "WWii_F1NuNwH"
   },
   "outputs": [],
   "source": [
    "from cloudant.client import Cloudant\n",
    "from cloudant.error import CloudantException\n",
    "from cloudant.result import Result, ResultByKey\n",
    "from datetime import datetime\n",
    "from faker import Faker\n",
    "import random"
   ]
  },
  {
   "cell_type": "code",
   "execution_count": 167,
   "metadata": {
    "colab": {},
    "colab_type": "code",
    "id": "rfTsE5CLuSoV"
   },
   "outputs": [],
   "source": [
    "username = \"8c6b43fe-21d2-4fe1-9a35-f16ed4b5bc8c-bluemix\"\n",
    "password = \"_BZzLTTJK8Bw3D17DM76Em34GLlzW-_3o5RpA9c1oZnR\"\n",
    "client = Cloudant.iam(username, password)\n",
    "client.connect()\n",
    "databaseName = \"maindatabase\"\n",
    "mainDatabase = client.create_database(databaseName)"
   ]
  },
  {
   "cell_type": "code",
   "execution_count": 168,
   "metadata": {
    "colab": {
     "base_uri": "https://localhost:8080/",
     "height": 54
    },
    "colab_type": "code",
    "executionInfo": {
     "elapsed": 597,
     "status": "ok",
     "timestamp": 1587959424909,
     "user": {
      "displayName": "Ajmain Naqib",
      "photoUrl": "https://lh3.googleusercontent.com/a-/AOh14GhhKSJySy-7u5m7AnlSmnYnKEEc1nb-WOMxCz2eLXg=s64",
      "userId": "11591356358542650398"
     },
     "user_tz": 300
    },
    "id": "kkEMX0c0vG1u",
    "outputId": "31a825ae-0ec5-496b-8465-6a49f93b1dff"
   },
   "outputs": [
    {
     "name": "stdout",
     "output_type": "stream",
     "text": [
      "[[35.74788, -88.3162], [30.17746, -76.51552], [39.45621, -116.56346], [29.65163, -76.72803], [28.15112, -96.39774], [40.60538, -87.88754], [47.76232, -87.65644], [44.99012, -87.882], [38.58894, -93.75018], [39.71734, -117.79394], [33.98154, -74.28459], [33.72255, -73.99681], [41.80753, -78.04471], [40.67705, -91.77127], [39.71734, -117.70755], [41.8542, -84.23381], [34.14251, -75.60804], [37.95143, -78.19444], [40.2737, -111.78903], [41.57721, -87.882]]\n"
     ]
    }
   ],
   "source": [
    "fake = Faker()\n",
    "Faker.seed(4321)\n",
    "location_list = []\n",
    "for i in range(20):\n",
    "    location_list.append((float(fake.local_latlng()[0]), float(fake.local_latlng()[1])))\n",
    "print(location_list)"
   ]
  },
  {
   "cell_type": "code",
   "execution_count": 169,
   "metadata": {
    "colab": {
     "base_uri": "https://localhost:8080/",
     "height": 34
    },
    "colab_type": "code",
    "executionInfo": {
     "elapsed": 625,
     "status": "ok",
     "timestamp": 1587959441330,
     "user": {
      "displayName": "Ajmain Naqib",
      "photoUrl": "https://lh3.googleusercontent.com/a-/AOh14GhhKSJySy-7u5m7AnlSmnYnKEEc1nb-WOMxCz2eLXg=s64",
      "userId": "11591356358542650398"
     },
     "user_tz": 300
    },
    "id": "F7hXw2QIvHVa",
    "outputId": "5cc2e0a9-d950-4d94-e29a-120230229fab"
   },
   "outputs": [
    {
     "name": "stdout",
     "output_type": "stream",
     "text": [
      "[{'GooglePlaceID': 'ChIJs--MqP1YwokRBwAhjXWIHn8', 'type': 'Feature', 'geometry': {'type': 'Point', 'coordinates': [35.74788, -88.3162]}}, {'GooglePlaceID': 'ChIJRZv8MU7gtYcRKKC5VXD8wXc', 'type': 'Feature', 'geometry': {'type': 'Point', 'coordinates': [30.17746, -76.51552]}}, {'GooglePlaceID': 'ChIJr46dPFY25IgRVZvncDr516U', 'type': 'Feature', 'geometry': {'type': 'Point', 'coordinates': [39.45621, -116.56346]}}, {'GooglePlaceID': 'ChIJJzds9ivbyYkRThGcZ8l4NJQ', 'type': 'Feature', 'geometry': {'type': 'Point', 'coordinates': [29.65163, -76.72803]}}, {'GooglePlaceID': 'ChIJKyy_aSEg5ogRlo0QKF1554A', 'type': 'Feature', 'geometry': {'type': 'Point', 'coordinates': [28.15112, -96.39774]}}, {'GooglePlaceID': 'ChIJcVzC6aewwogRQevl0eO9CU4', 'type': 'Feature', 'geometry': {'type': 'Point', 'coordinates': [40.60538, -87.88754]}}, {'GooglePlaceID': 'ChIJx0uzKYZzc4gR4GeXUuoWrYM', 'type': 'Feature', 'geometry': {'type': 'Point', 'coordinates': [47.76232, -87.65644]}}, {'GooglePlaceID': 'ChIJ8-JRXoxZwokRGPiQ9Ek0L84', 'type': 'Feature', 'geometry': {'type': 'Point', 'coordinates': [44.99012, -87.882]}}, {'GooglePlaceID': 'ChIJaVfGEvxVlVQRjuYYu54IZiY', 'type': 'Feature', 'geometry': {'type': 'Point', 'coordinates': [38.58894, -93.75018]}}, {'GooglePlaceID': 'ChIJ00rDNXGq2IcRepJSWVUSjcs', 'type': 'Feature', 'geometry': {'type': 'Point', 'coordinates': [39.71734, -117.79394]}}, {'GooglePlaceID': 'ChIJy7bZYbPUxokRpy0-v44A3hg', 'type': 'Feature', 'geometry': {'type': 'Point', 'coordinates': [33.98154, -74.28459]}}, {'GooglePlaceID': 'ChIJf9aquK2ZU4gRBDunOpwK6m8', 'type': 'Feature', 'geometry': {'type': 'Point', 'coordinates': [33.72255, -73.99681]}}, {'GooglePlaceID': 'ChIJzQ7MT3bQ24ARlDAdXPQe5fw', 'type': 'Feature', 'geometry': {'type': 'Point', 'coordinates': [41.80753, -78.04471]}}, {'GooglePlaceID': 'ChIJW8T2Iy3_5ocRPbBztd8f780', 'type': 'Feature', 'geometry': {'type': 'Point', 'coordinates': [40.67705, -91.77127]}}, {'GooglePlaceID': ' ChIJmQF_fUJ344kR8Cck7lzGN1k', 'type': 'Feature', 'geometry': {'type': 'Point', 'coordinates': [39.71734, -117.70755]}}, {'GooglePlaceID': 'ChIJEWQ_Zxiv2okRSgFutTTgEhw', 'type': 'Feature', 'geometry': {'type': 'Point', 'coordinates': [41.8542, -84.23381]}}, {'GooglePlaceID': 'ChIJqYPwyDLAwoARpibJ_p6hP-U', 'type': 'Feature', 'geometry': {'type': 'Point', 'coordinates': [34.14251, -75.60804]}}, {'GooglePlaceID': 'ChIJU2bZBX8y2ocRaHZGG2iSMa0', 'type': 'Feature', 'geometry': {'type': 'Point', 'coordinates': [37.95143, -78.19444]}}, {'GooglePlaceID': 'ChIJa3LN-KfTwokREJ0SU2e4cqo', 'type': 'Feature', 'geometry': {'type': 'Point', 'coordinates': [40.2737, -111.78903]}}, {'GooglePlaceID': 'ChIJG2mX3o3QDIgRz791tEd49TA', 'type': 'Feature', 'geometry': {'type': 'Point', 'coordinates': [41.57721, -87.882]}}]\n"
     ]
    }
   ],
   "source": [
    "googlePlaceNycHallID = \"ChIJs--MqP1YwokRBwAhjXWIHn8\"\n",
    "googlePlaceMuskogeeID = \"ChIJRZv8MU7gtYcRKKC5VXD8wXc\"\n",
    "googlePlacePalmValleyID = \"ChIJr46dPFY25IgRVZvncDr516U\"\n",
    "googlePlaceCloverHillID = \"ChIJJzds9ivbyYkRThGcZ8l4NJQ\"\n",
    "googlePlaceGainesVilleID = \"ChIJKyy_aSEg5ogRlo0QKF1554A\"\n",
    "googlePlaceLutzID = \"ChIJcVzC6aewwogRQevl0eO9CU4\"\n",
    "googlePlaceAshGroveID = \"ChIJx0uzKYZzc4gR4GeXUuoWrYM\"\n",
    "googlePlaceSohoID = \"ChIJ8-JRXoxZwokRGPiQ9Ek0L84\"\n",
    "googlePlaceKeizerID = \"ChIJaVfGEvxVlVQRjuYYu54IZiY\"\n",
    "googlePlaceFairViewHeightsID = \"ChIJ00rDNXGq2IcRepJSWVUSjcs\"\n",
    "googlePlaceSickerPlaceID = \"ChIJy7bZYbPUxokRpy0-v44A3hg\"\n",
    "googlePlaceLexingtonID = \"ChIJf9aquK2ZU4gRBDunOpwK6m8\"\n",
    "googlePlaceLaJollaID = \"ChIJzQ7MT3bQ24ARlDAdXPQe5fw\"\n",
    "googlePlaceBonaParteID = \"ChIJW8T2Iy3_5ocRPbBztd8f780\"\n",
    "googlePlaceHarvardUniversityID = \" ChIJmQF_fUJ344kR8Cck7lzGN1k\"\n",
    "googlePlaceRomePennsylvaniaID = \"ChIJEWQ_Zxiv2okRSgFutTTgEhw\"\n",
    "googlePlaceGlendaleID = \"ChIJqYPwyDLAwoARpibJ_p6hP-U\"\n",
    "googlePlaceRollaMissouriID = \"ChIJU2bZBX8y2ocRaHZGG2iSMa0\"\n",
    "googlePlaceCornwallID = \"ChIJa3LN-KfTwokREJ0SU2e4cqo\"\n",
    "googlePlaceChampaignID = \"ChIJG2mX3o3QDIgRz791tEd49TA\"\n",
    "geoJsonNycHall = {\"GooglePlaceID\": googlePlaceNycHallID, \"type\":\"Feature\", \"geometry\":{\"type\":\"Point\", \"coordinates\": location_list[0]}}\n",
    "geoJsonMuskogee = {\"GooglePlaceID\": googlePlaceMuskogeeID, \"type\":\"Feature\", \"geometry\":{\"type\":\"Point\", \"coordinates\":location_list[1]}}\n",
    "geoJsonPalmValley = {\"GooglePlaceID\": googlePlacePalmValleyID, \"type\":\"Feature\", \"geometry\":{\"type\":\"Point\", \"coordinates\":location_list[2]}}\n",
    "geoJsonCloverHill = {\"GooglePlaceID\": googlePlaceCloverHillID, \"type\":\"Feature\", \"geometry\":{\"type\":\"Point\", \"coordinates\":location_list[3]}}\n",
    "geoJsonGainesVille = {\"GooglePlaceID\": googlePlaceGainesVilleID, \"type\":\"Feature\", \"geometry\":{\"type\":\"Point\", \"coordinates\":location_list[4]}}\n",
    "geoJsonLutz = {\"GooglePlaceID\": googlePlaceLutzID, \"type\":\"Feature\", \"geometry\":{\"type\":\"Point\", \"coordinates\":location_list[5]}}\n",
    "geoJsonAshGrove = {\"GooglePlaceID\": googlePlaceAshGroveID, \"type\":\"Feature\", \"geometry\":{\"type\":\"Point\", \"coordinates\":location_list[6]}}\n",
    "geoJsonSoho = {\"GooglePlaceID\": googlePlaceSohoID, \"type\":\"Feature\", \"geometry\":{\"type\":\"Point\", \"coordinates\":location_list[7]}}\n",
    "geoJsonKeizer = {\"GooglePlaceID\": googlePlaceKeizerID, \"type\":\"Feature\", \"geometry\":{\"type\":\"Point\", \"coordinates\":location_list[8]}}\n",
    "geoJsonFairViewHeights = {\"GooglePlaceID\": googlePlaceFairViewHeightsID, \"type\":\"Feature\", \"geometry\":{\"type\":\"Point\", \"coordinates\":location_list[9]}}\n",
    "geoJsonSickerPlace = {\"GooglePlaceID\": googlePlaceSickerPlaceID, \"type\":\"Feature\", \"geometry\":{\"type\":\"Point\", \"coordinates\":location_list[10]}}\n",
    "geoJsonLexington = {\"GooglePlaceID\": googlePlaceLexingtonID, \"type\":\"Feature\", \"geometry\":{\"type\":\"Point\", \"coordinates\":location_list[11]}}\n",
    "geoJsonLaJolla = {\"GooglePlaceID\": googlePlaceLaJollaID, \"type\":\"Feature\", \"geometry\":{\"type\":\"Point\", \"coordinates\":location_list[12]}}\n",
    "geoJsonBonaParte = {\"GooglePlaceID\": googlePlaceBonaParteID, \"type\":\"Feature\", \"geometry\":{\"type\":\"Point\", \"coordinates\":location_list[13]}}\n",
    "geoJsonHarvardUniversity = {\"GooglePlaceID\": googlePlaceHarvardUniversityID, \"type\":\"Feature\", \"geometry\":{\"type\":\"Point\", \"coordinates\":location_list[14]}}\n",
    "geoJsonRomePennsylvania = {\"GooglePlaceID\": googlePlaceRomePennsylvaniaID, \"type\":\"Feature\", \"geometry\":{\"type\":\"Point\", \"coordinates\":location_list[15]}}\n",
    "geoJsonGlendale = {\"GooglePlaceID\": googlePlaceGlendaleID, \"type\":\"Feature\", \"geometry\":{\"type\":\"Point\", \"coordinates\":location_list[16]}}\n",
    "geoJsonRollaMissouri = {\"GooglePlaceID\": googlePlaceRollaMissouriID, \"type\":\"Feature\", \"geometry\":{\"type\":\"Point\", \"coordinates\":location_list[17]}}\n",
    "geoJsonCornWall = {\"GooglePlaceID\": googlePlaceCornwallID, \"type\":\"Feature\", \"geometry\":{\"type\":\"Point\", \"coordinates\":location_list[18]}}\n",
    "geoJsonChampaign = {\"GooglePlaceID\": googlePlaceChampaignID, \"type\":\"Feature\", \"geometry\":{\"type\":\"Point\", \"coordinates\":location_list[19]}}\n",
    "\n",
    "geoJsonList = []\n",
    "geoJsonList.append(geoJsonNycHall)\n",
    "geoJsonList.append(geoJsonMuskogee)\n",
    "geoJsonList.append(geoJsonPalmValley)\n",
    "geoJsonList.append(geoJsonCloverHill)\n",
    "geoJsonList.append(geoJsonGainesVille)\n",
    "geoJsonList.append(geoJsonLutz)\n",
    "geoJsonList.append(geoJsonAshGrove)\n",
    "geoJsonList.append(geoJsonSoho)\n",
    "geoJsonList.append(geoJsonKeizer)\n",
    "geoJsonList.append(geoJsonFairViewHeights)\n",
    "geoJsonList.append(geoJsonSickerPlace)\n",
    "geoJsonList.append(geoJsonLexington)\n",
    "geoJsonList.append(geoJsonLaJolla)\n",
    "geoJsonList.append(geoJsonBonaParte)\n",
    "geoJsonList.append(geoJsonHarvardUniversity)\n",
    "geoJsonList.append(geoJsonRomePennsylvania)\n",
    "geoJsonList.append(geoJsonGlendale)\n",
    "geoJsonList.append(geoJsonRollaMissouri)\n",
    "geoJsonList.append(geoJsonCornWall)\n",
    "geoJsonList.append(geoJsonChampaign)\n",
    "print(geoJsonList)\n"
   ]
  },
  {
   "cell_type": "code",
   "execution_count": 170,
   "metadata": {
    "colab": {
     "base_uri": "https://localhost:8080/",
     "height": 254
    },
    "colab_type": "code",
    "executionInfo": {
     "elapsed": 612,
     "status": "error",
     "timestamp": 1587959477606,
     "user": {
      "displayName": "Ajmain Naqib",
      "photoUrl": "https://lh3.googleusercontent.com/a-/AOh14GhhKSJySy-7u5m7AnlSmnYnKEEc1nb-WOMxCz2eLXg=s64",
      "userId": "11591356358542650398"
     },
     "user_tz": 300
    },
    "id": "m9CavlLXvJPL",
    "outputId": "d80bf7f1-9378-4c53-f51e-676738c5cf2b"
   },
   "outputs": [
    {
     "name": "stdout",
     "output_type": "stream",
     "text": [
      "949284200\n"
     ]
    }
   ],
   "source": [
    "def randomizeCondition() :\n",
    "    num = random.randint(0, 2)\n",
    "    if (num == 0) :\n",
    "        return \"Recovered/NoCovid19\"\n",
    "    if (num == 1) :\n",
    "        return \"PotentialCovid19\"\n",
    "    if (num == 2) :\n",
    "        return \"HasCovid19\"\n",
    "status = randomizeCondition()\n",
    "\n",
    "def randomizeVisitID() :\n",
    "    \n",
    "    return random.randint(0, 999999999)\n",
    "\n",
    "visit_id = randomizeVisitID()\n",
    "print(visit_id)\n",
    "\n",
    "def randomizeDistance() :\n",
    "    \n",
    "    return random.randint(0, 11)\n",
    "\n",
    "def initListVisitDictionary() :\n",
    "    \n",
    "    visitListDictionary = []\n",
    "    for i in range(20):\n",
    "        visitListDictionary.append({randomizeVisitID():[randomizeDistance(), datetime.__str__(datetime(2020, 3, 13)), randomizeCondition()]})     \n",
    "    return visitListDictionary\n",
    "\n",
    "ListVisitDictionary = initListVisitDictionary()\n",
    "\n",
    "def randomizeTransactionID() :\n",
    "    return random.randint(0, 32800000)\n",
    "\n",
    "def randomizeContributionID() :\n",
    "    return random.randint(0, 32800000)\n",
    "\n",
    "def init_ListJsonDocument(ListVisitDictionary, geoJsonList):\n",
    "    ListJsonDocument = []\n",
    "    for i in range(len(geoJsonList)):\n",
    "        jsonDocument = {\n",
    "            \"TransactionID\" : randomizeTransactionID(),\n",
    "            \"ContributorID\" : randomizeContributionID(),\n",
    "            \"GeoLocation\": geoJsonList[i],\n",
    "            \"GooglePlaceID\": geoJsonList[i][\"GooglePlaceID\"],\n",
    "            \"VisitDictionary\": ListVisitDictionary[i]     \n",
    "        }\n",
    "        ListJsonDocument.append(jsonDocument)\n",
    "    return ListJsonDocument"
   ]
  },
  {
   "cell_type": "code",
   "execution_count": 171,
   "metadata": {
    "colab": {
     "base_uri": "https://localhost:8080/",
     "height": 184
    },
    "colab_type": "code",
    "executionInfo": {
     "elapsed": 1067,
     "status": "error",
     "timestamp": 1587959455390,
     "user": {
      "displayName": "Ajmain Naqib",
      "photoUrl": "https://lh3.googleusercontent.com/a-/AOh14GhhKSJySy-7u5m7AnlSmnYnKEEc1nb-WOMxCz2eLXg=s64",
      "userId": "11591356358542650398"
     },
     "user_tz": 300
    },
    "id": "8pG3jbsHvUJX",
    "outputId": "af0e8e0e-340e-4654-dadc-24a7b2b43cb7"
   },
   "outputs": [
    {
     "name": "stdout",
     "output_type": "stream",
     "text": [
      "[{'TransactionID': 18026102, 'ContributorID': 8864239, 'GeoLocation': {'GooglePlaceID': 'ChIJs--MqP1YwokRBwAhjXWIHn8', 'type': 'Feature', 'geometry': {'type': 'Point', 'coordinates': [35.74788, -88.3162]}}, 'GooglePlaceID': 'ChIJs--MqP1YwokRBwAhjXWIHn8', 'VisitDictionary': {812116831: [2, '2020-03-13 00:00:00', 'Recovered/NoCovid19']}}, {'TransactionID': 14682715, 'ContributorID': 7783211, 'GeoLocation': {'GooglePlaceID': 'ChIJRZv8MU7gtYcRKKC5VXD8wXc', 'type': 'Feature', 'geometry': {'type': 'Point', 'coordinates': [30.17746, -76.51552]}}, 'GooglePlaceID': 'ChIJRZv8MU7gtYcRKKC5VXD8wXc', 'VisitDictionary': {882666315: [7, '2020-03-13 00:00:00', 'Recovered/NoCovid19']}}, {'TransactionID': 6685392, 'ContributorID': 15745721, 'GeoLocation': {'GooglePlaceID': 'ChIJr46dPFY25IgRVZvncDr516U', 'type': 'Feature', 'geometry': {'type': 'Point', 'coordinates': [39.45621, -116.56346]}}, 'GooglePlaceID': 'ChIJr46dPFY25IgRVZvncDr516U', 'VisitDictionary': {240046068: [4, '2020-03-13 00:00:00', 'HasCovid19']}}, {'TransactionID': 22616860, 'ContributorID': 24229859, 'GeoLocation': {'GooglePlaceID': 'ChIJJzds9ivbyYkRThGcZ8l4NJQ', 'type': 'Feature', 'geometry': {'type': 'Point', 'coordinates': [29.65163, -76.72803]}}, 'GooglePlaceID': 'ChIJJzds9ivbyYkRThGcZ8l4NJQ', 'VisitDictionary': {105198: [7, '2020-03-13 00:00:00', 'PotentialCovid19']}}, {'TransactionID': 7028529, 'ContributorID': 25073592, 'GeoLocation': {'GooglePlaceID': 'ChIJKyy_aSEg5ogRlo0QKF1554A', 'type': 'Feature', 'geometry': {'type': 'Point', 'coordinates': [28.15112, -96.39774]}}, 'GooglePlaceID': 'ChIJKyy_aSEg5ogRlo0QKF1554A', 'VisitDictionary': {17579947: [0, '2020-03-13 00:00:00', 'Recovered/NoCovid19']}}, {'TransactionID': 3471080, 'ContributorID': 5404583, 'GeoLocation': {'GooglePlaceID': 'ChIJcVzC6aewwogRQevl0eO9CU4', 'type': 'Feature', 'geometry': {'type': 'Point', 'coordinates': [40.60538, -87.88754]}}, 'GooglePlaceID': 'ChIJcVzC6aewwogRQevl0eO9CU4', 'VisitDictionary': {95586730: [1, '2020-03-13 00:00:00', 'Recovered/NoCovid19']}}, {'TransactionID': 20261895, 'ContributorID': 2236282, 'GeoLocation': {'GooglePlaceID': 'ChIJx0uzKYZzc4gR4GeXUuoWrYM', 'type': 'Feature', 'geometry': {'type': 'Point', 'coordinates': [47.76232, -87.65644]}}, 'GooglePlaceID': 'ChIJx0uzKYZzc4gR4GeXUuoWrYM', 'VisitDictionary': {351969609: [10, '2020-03-13 00:00:00', 'Recovered/NoCovid19']}}, {'TransactionID': 7791595, 'ContributorID': 24728165, 'GeoLocation': {'GooglePlaceID': 'ChIJ8-JRXoxZwokRGPiQ9Ek0L84', 'type': 'Feature', 'geometry': {'type': 'Point', 'coordinates': [44.99012, -87.882]}}, 'GooglePlaceID': 'ChIJ8-JRXoxZwokRGPiQ9Ek0L84', 'VisitDictionary': {978286938: [7, '2020-03-13 00:00:00', 'PotentialCovid19']}}, {'TransactionID': 2812943, 'ContributorID': 27725956, 'GeoLocation': {'GooglePlaceID': 'ChIJaVfGEvxVlVQRjuYYu54IZiY', 'type': 'Feature', 'geometry': {'type': 'Point', 'coordinates': [38.58894, -93.75018]}}, 'GooglePlaceID': 'ChIJaVfGEvxVlVQRjuYYu54IZiY', 'VisitDictionary': {706620767: [8, '2020-03-13 00:00:00', 'PotentialCovid19']}}, {'TransactionID': 13405338, 'ContributorID': 18017947, 'GeoLocation': {'GooglePlaceID': 'ChIJ00rDNXGq2IcRepJSWVUSjcs', 'type': 'Feature', 'geometry': {'type': 'Point', 'coordinates': [39.71734, -117.79394]}}, 'GooglePlaceID': 'ChIJ00rDNXGq2IcRepJSWVUSjcs', 'VisitDictionary': {409665902: [10, '2020-03-13 00:00:00', 'PotentialCovid19']}}, {'TransactionID': 20010402, 'ContributorID': 4301495, 'GeoLocation': {'GooglePlaceID': 'ChIJy7bZYbPUxokRpy0-v44A3hg', 'type': 'Feature', 'geometry': {'type': 'Point', 'coordinates': [33.98154, -74.28459]}}, 'GooglePlaceID': 'ChIJy7bZYbPUxokRpy0-v44A3hg', 'VisitDictionary': {358582704: [7, '2020-03-13 00:00:00', 'Recovered/NoCovid19']}}, {'TransactionID': 12390410, 'ContributorID': 32193114, 'GeoLocation': {'GooglePlaceID': 'ChIJf9aquK2ZU4gRBDunOpwK6m8', 'type': 'Feature', 'geometry': {'type': 'Point', 'coordinates': [33.72255, -73.99681]}}, 'GooglePlaceID': 'ChIJf9aquK2ZU4gRBDunOpwK6m8', 'VisitDictionary': {723430310: [11, '2020-03-13 00:00:00', 'HasCovid19']}}, {'TransactionID': 6368704, 'ContributorID': 643226, 'GeoLocation': {'GooglePlaceID': 'ChIJzQ7MT3bQ24ARlDAdXPQe5fw', 'type': 'Feature', 'geometry': {'type': 'Point', 'coordinates': [41.80753, -78.04471]}}, 'GooglePlaceID': 'ChIJzQ7MT3bQ24ARlDAdXPQe5fw', 'VisitDictionary': {176792444: [8, '2020-03-13 00:00:00', 'HasCovid19']}}, {'TransactionID': 15475980, 'ContributorID': 6217656, 'GeoLocation': {'GooglePlaceID': 'ChIJW8T2Iy3_5ocRPbBztd8f780', 'type': 'Feature', 'geometry': {'type': 'Point', 'coordinates': [40.67705, -91.77127]}}, 'GooglePlaceID': 'ChIJW8T2Iy3_5ocRPbBztd8f780', 'VisitDictionary': {814267742: [8, '2020-03-13 00:00:00', 'PotentialCovid19']}}, {'TransactionID': 26048964, 'ContributorID': 22315838, 'GeoLocation': {'GooglePlaceID': ' ChIJmQF_fUJ344kR8Cck7lzGN1k', 'type': 'Feature', 'geometry': {'type': 'Point', 'coordinates': [39.71734, -117.70755]}}, 'GooglePlaceID': ' ChIJmQF_fUJ344kR8Cck7lzGN1k', 'VisitDictionary': {852231774: [8, '2020-03-13 00:00:00', 'PotentialCovid19']}}, {'TransactionID': 30297257, 'ContributorID': 13660002, 'GeoLocation': {'GooglePlaceID': 'ChIJEWQ_Zxiv2okRSgFutTTgEhw', 'type': 'Feature', 'geometry': {'type': 'Point', 'coordinates': [41.8542, -84.23381]}}, 'GooglePlaceID': 'ChIJEWQ_Zxiv2okRSgFutTTgEhw', 'VisitDictionary': {87659189: [7, '2020-03-13 00:00:00', 'Recovered/NoCovid19']}}, {'TransactionID': 8666069, 'ContributorID': 28130943, 'GeoLocation': {'GooglePlaceID': 'ChIJqYPwyDLAwoARpibJ_p6hP-U', 'type': 'Feature', 'geometry': {'type': 'Point', 'coordinates': [34.14251, -75.60804]}}, 'GooglePlaceID': 'ChIJqYPwyDLAwoARpibJ_p6hP-U', 'VisitDictionary': {699041950: [9, '2020-03-13 00:00:00', 'PotentialCovid19']}}, {'TransactionID': 16049634, 'ContributorID': 6668875, 'GeoLocation': {'GooglePlaceID': 'ChIJU2bZBX8y2ocRaHZGG2iSMa0', 'type': 'Feature', 'geometry': {'type': 'Point', 'coordinates': [37.95143, -78.19444]}}, 'GooglePlaceID': 'ChIJU2bZBX8y2ocRaHZGG2iSMa0', 'VisitDictionary': {165663069: [6, '2020-03-13 00:00:00', 'Recovered/NoCovid19']}}, {'TransactionID': 30744471, 'ContributorID': 18688870, 'GeoLocation': {'GooglePlaceID': 'ChIJa3LN-KfTwokREJ0SU2e4cqo', 'type': 'Feature', 'geometry': {'type': 'Point', 'coordinates': [40.2737, -111.78903]}}, 'GooglePlaceID': 'ChIJa3LN-KfTwokREJ0SU2e4cqo', 'VisitDictionary': {218699398: [7, '2020-03-13 00:00:00', 'HasCovid19']}}, {'TransactionID': 18231867, 'ContributorID': 12919645, 'GeoLocation': {'GooglePlaceID': 'ChIJG2mX3o3QDIgRz791tEd49TA', 'type': 'Feature', 'geometry': {'type': 'Point', 'coordinates': [41.57721, -87.882]}}, 'GooglePlaceID': 'ChIJG2mX3o3QDIgRz791tEd49TA', 'VisitDictionary': {161459432: [2, '2020-03-13 00:00:00', 'Recovered/NoCovid19']}}]\n"
     ]
    }
   ],
   "source": [
    "ListJsonDocument = init_ListJsonDocument(ListVisitDictionary, geoJsonList)\n",
    "print(ListJsonDocument)\n"
   ]
  },
  {
   "cell_type": "code",
   "execution_count": 172,
   "metadata": {
    "colab": {},
    "colab_type": "code",
    "id": "WNcWxBvSvaBV"
   },
   "outputs": [
    {
     "ename": "HTTPError",
     "evalue": "429 Client Error: Too Many Requests too_many_requests You`ve exceeded your rate limit allowance. Please try again later. for url: https://8c6b43fe-21d2-4fe1-9a35-f16ed4b5bc8c-bluemix.cloudant.com/maindatabase",
     "output_type": "error",
     "traceback": [
      "\u001b[0;31m---------------------------------------------------------------------------\u001b[0m",
      "\u001b[0;31mHTTPError\u001b[0m                                 Traceback (most recent call last)",
      "\u001b[0;32m<ipython-input-172-188fd81c7e17>\u001b[0m in \u001b[0;36m<module>\u001b[0;34m\u001b[0m\n\u001b[1;32m      6\u001b[0m     \u001b[0;32mreturn\u001b[0m \u001b[0mListIBMDataBaseDocument\u001b[0m\u001b[0;34m\u001b[0m\u001b[0;34m\u001b[0m\u001b[0m\n\u001b[1;32m      7\u001b[0m \u001b[0;34m\u001b[0m\u001b[0m\n\u001b[0;32m----> 8\u001b[0;31m \u001b[0mListIBMDataBaseDocument\u001b[0m \u001b[0;34m=\u001b[0m \u001b[0minitListIBMDataBaseDocument\u001b[0m\u001b[0;34m(\u001b[0m\u001b[0mListJsonDocument\u001b[0m\u001b[0;34m)\u001b[0m\u001b[0;34m\u001b[0m\u001b[0;34m\u001b[0m\u001b[0m\n\u001b[0m\u001b[1;32m      9\u001b[0m \u001b[0mprint\u001b[0m\u001b[0;34m(\u001b[0m\u001b[0mListIBMDataBaseDocument\u001b[0m\u001b[0;34m)\u001b[0m\u001b[0;34m\u001b[0m\u001b[0;34m\u001b[0m\u001b[0m\n",
      "\u001b[0;32m<ipython-input-172-188fd81c7e17>\u001b[0m in \u001b[0;36minitListIBMDataBaseDocument\u001b[0;34m(ListJsonDocument)\u001b[0m\n\u001b[1;32m      2\u001b[0m     \u001b[0mListIBMDataBaseDocument\u001b[0m \u001b[0;34m=\u001b[0m \u001b[0;34m[\u001b[0m\u001b[0;34m]\u001b[0m\u001b[0;34m\u001b[0m\u001b[0;34m\u001b[0m\u001b[0m\n\u001b[1;32m      3\u001b[0m     \u001b[0;32mfor\u001b[0m \u001b[0mi\u001b[0m \u001b[0;32min\u001b[0m \u001b[0mListJsonDocument\u001b[0m\u001b[0;34m:\u001b[0m\u001b[0;34m\u001b[0m\u001b[0;34m\u001b[0m\u001b[0m\n\u001b[0;32m----> 4\u001b[0;31m         \u001b[0mnewDocument\u001b[0m \u001b[0;34m=\u001b[0m \u001b[0mmainDatabase\u001b[0m\u001b[0;34m.\u001b[0m\u001b[0mcreate_document\u001b[0m\u001b[0;34m(\u001b[0m\u001b[0mi\u001b[0m\u001b[0;34m)\u001b[0m\u001b[0;34m\u001b[0m\u001b[0;34m\u001b[0m\u001b[0m\n\u001b[0m\u001b[1;32m      5\u001b[0m         \u001b[0mListIBMDataBaseDocument\u001b[0m\u001b[0;34m.\u001b[0m\u001b[0mappend\u001b[0m\u001b[0;34m(\u001b[0m\u001b[0mnewDocument\u001b[0m\u001b[0;34m)\u001b[0m\u001b[0;34m\u001b[0m\u001b[0;34m\u001b[0m\u001b[0m\n\u001b[1;32m      6\u001b[0m     \u001b[0;32mreturn\u001b[0m \u001b[0mListIBMDataBaseDocument\u001b[0m\u001b[0;34m\u001b[0m\u001b[0;34m\u001b[0m\u001b[0m\n",
      "\u001b[0;32m//anaconda3/lib/python3.7/site-packages/cloudant/database.py\u001b[0m in \u001b[0;36mcreate_document\u001b[0;34m(self, data, throw_on_exists)\u001b[0m\n\u001b[1;32m    189\u001b[0m         \u001b[0mdoc\u001b[0m\u001b[0;34m.\u001b[0m\u001b[0mupdate\u001b[0m\u001b[0;34m(\u001b[0m\u001b[0mdata\u001b[0m\u001b[0;34m)\u001b[0m\u001b[0;34m\u001b[0m\u001b[0;34m\u001b[0m\u001b[0m\n\u001b[1;32m    190\u001b[0m         \u001b[0;32mtry\u001b[0m\u001b[0;34m:\u001b[0m\u001b[0;34m\u001b[0m\u001b[0;34m\u001b[0m\u001b[0m\n\u001b[0;32m--> 191\u001b[0;31m             \u001b[0mdoc\u001b[0m\u001b[0;34m.\u001b[0m\u001b[0mcreate\u001b[0m\u001b[0;34m(\u001b[0m\u001b[0;34m)\u001b[0m\u001b[0;34m\u001b[0m\u001b[0;34m\u001b[0m\u001b[0m\n\u001b[0m\u001b[1;32m    192\u001b[0m         \u001b[0;32mexcept\u001b[0m \u001b[0mHTTPError\u001b[0m \u001b[0;32mas\u001b[0m \u001b[0merror\u001b[0m\u001b[0;34m:\u001b[0m\u001b[0;34m\u001b[0m\u001b[0;34m\u001b[0m\u001b[0m\n\u001b[1;32m    193\u001b[0m             \u001b[0;32mif\u001b[0m \u001b[0merror\u001b[0m\u001b[0;34m.\u001b[0m\u001b[0mresponse\u001b[0m\u001b[0;34m.\u001b[0m\u001b[0mstatus_code\u001b[0m \u001b[0;34m==\u001b[0m \u001b[0;36m409\u001b[0m\u001b[0;34m:\u001b[0m\u001b[0;34m\u001b[0m\u001b[0;34m\u001b[0m\u001b[0m\n",
      "\u001b[0;32m//anaconda3/lib/python3.7/site-packages/cloudant/document.py\u001b[0m in \u001b[0;36mcreate\u001b[0;34m(self)\u001b[0m\n\u001b[1;32m    148\u001b[0m             \u001b[0mdata\u001b[0m\u001b[0;34m=\u001b[0m\u001b[0mjson\u001b[0m\u001b[0;34m.\u001b[0m\u001b[0mdumps\u001b[0m\u001b[0;34m(\u001b[0m\u001b[0mdoc\u001b[0m\u001b[0;34m,\u001b[0m \u001b[0mcls\u001b[0m\u001b[0;34m=\u001b[0m\u001b[0mself\u001b[0m\u001b[0;34m.\u001b[0m\u001b[0mencoder\u001b[0m\u001b[0;34m)\u001b[0m\u001b[0;34m\u001b[0m\u001b[0;34m\u001b[0m\u001b[0m\n\u001b[1;32m    149\u001b[0m         )\n\u001b[0;32m--> 150\u001b[0;31m         \u001b[0mresp\u001b[0m\u001b[0;34m.\u001b[0m\u001b[0mraise_for_status\u001b[0m\u001b[0;34m(\u001b[0m\u001b[0;34m)\u001b[0m\u001b[0;34m\u001b[0m\u001b[0;34m\u001b[0m\u001b[0m\n\u001b[0m\u001b[1;32m    151\u001b[0m         \u001b[0mdata\u001b[0m \u001b[0;34m=\u001b[0m \u001b[0mresponse_to_json_dict\u001b[0m\u001b[0;34m(\u001b[0m\u001b[0mresp\u001b[0m\u001b[0;34m)\u001b[0m\u001b[0;34m\u001b[0m\u001b[0;34m\u001b[0m\u001b[0m\n\u001b[1;32m    152\u001b[0m         \u001b[0msuper\u001b[0m\u001b[0;34m(\u001b[0m\u001b[0mDocument\u001b[0m\u001b[0;34m,\u001b[0m \u001b[0mself\u001b[0m\u001b[0;34m)\u001b[0m\u001b[0;34m.\u001b[0m\u001b[0m__setitem__\u001b[0m\u001b[0;34m(\u001b[0m\u001b[0;34m'_id'\u001b[0m\u001b[0;34m,\u001b[0m \u001b[0mdata\u001b[0m\u001b[0;34m[\u001b[0m\u001b[0;34m'id'\u001b[0m\u001b[0;34m]\u001b[0m\u001b[0;34m)\u001b[0m\u001b[0;34m\u001b[0m\u001b[0;34m\u001b[0m\u001b[0m\n",
      "\u001b[0;32m//anaconda3/lib/python3.7/site-packages/requests/models.py\u001b[0m in \u001b[0;36mraise_for_status\u001b[0;34m(self)\u001b[0m\n\u001b[1;32m    938\u001b[0m \u001b[0;34m\u001b[0m\u001b[0m\n\u001b[1;32m    939\u001b[0m         \u001b[0;32mif\u001b[0m \u001b[0mhttp_error_msg\u001b[0m\u001b[0;34m:\u001b[0m\u001b[0;34m\u001b[0m\u001b[0;34m\u001b[0m\u001b[0m\n\u001b[0;32m--> 940\u001b[0;31m             \u001b[0;32mraise\u001b[0m \u001b[0mHTTPError\u001b[0m\u001b[0;34m(\u001b[0m\u001b[0mhttp_error_msg\u001b[0m\u001b[0;34m,\u001b[0m \u001b[0mresponse\u001b[0m\u001b[0;34m=\u001b[0m\u001b[0mself\u001b[0m\u001b[0;34m)\u001b[0m\u001b[0;34m\u001b[0m\u001b[0;34m\u001b[0m\u001b[0m\n\u001b[0m\u001b[1;32m    941\u001b[0m \u001b[0;34m\u001b[0m\u001b[0m\n\u001b[1;32m    942\u001b[0m     \u001b[0;32mdef\u001b[0m \u001b[0mclose\u001b[0m\u001b[0;34m(\u001b[0m\u001b[0mself\u001b[0m\u001b[0;34m)\u001b[0m\u001b[0;34m:\u001b[0m\u001b[0;34m\u001b[0m\u001b[0;34m\u001b[0m\u001b[0m\n",
      "\u001b[0;31mHTTPError\u001b[0m: 429 Client Error: Too Many Requests too_many_requests You`ve exceeded your rate limit allowance. Please try again later. for url: https://8c6b43fe-21d2-4fe1-9a35-f16ed4b5bc8c-bluemix.cloudant.com/maindatabase"
     ]
    }
   ],
   "source": [
    "def initListIBMDataBaseDocument(ListJsonDocument) :\n",
    "    ListIBMDataBaseDocument = []\n",
    "    for i in ListJsonDocument:\n",
    "        newDocument = mainDatabase.create_document(i)\n",
    "        ListIBMDataBaseDocument.append(newDocument)\n",
    "    return ListIBMDataBaseDocument\n",
    "\n",
    "ListIBMDataBaseDocument = initListIBMDataBaseDocument(ListJsonDocument)\n",
    "print(ListIBMDataBaseDocument)"
   ]
  },
  {
   "cell_type": "code",
   "execution_count": 196,
   "metadata": {
    "colab": {},
    "colab_type": "code",
    "id": "mioIGgANvgkU"
   },
   "outputs": [
    {
     "name": "stdout",
     "output_type": "stream",
     "text": [
      "{'[35.74788, -88.3162]': 6, '[30.17746, -76.51552]': 6, '[39.45621, -116.56346]': 6, '[29.65163, -76.72803]': 6, '[28.15112, -96.39774]': 6, '[40.60538, -87.88754]': 6, '[47.76232, -87.65644]': 6, '[44.99012, -87.882]': 6, '[38.58894, -93.75018]': 6, '[39.71734, -117.79394]': 6, '[33.98154, -74.28459]': 6, '[33.72255, -73.99681]': 6, '[41.80753, -78.04471]': 6, '[40.67705, -91.77127]': 6, '[39.71734, -117.70755]': 6, '[41.8542, -84.23381]': 6, '[34.14251, -75.60804]': 6, '[37.95143, -78.19444]': 6, '[40.2737, -111.78903]': 6, '[41.57721, -87.882]': 6}\n"
     ]
    }
   ],
   "source": [
    "def DensityOfLocation(ListVisitDictionary, geoJsonList) :\n",
    "    googleIDCovid19Dict = {}\n",
    "    for subGeoJson in (geoJsonList):\n",
    "        count = 0\n",
    "        for subDict in ListVisitDictionary:\n",
    "            for key in subDict:\n",
    "                if (subDict[key][0] <= 6):\n",
    "                    count = count + 1       \n",
    "        googleIDCovid19Dict[str(subGeoJson[\"geometry\"][\"coordinates\"])] = count\n",
    "        \n",
    "        \n",
    "    return googleIDCovid19Dict\n",
    "        \n",
    "                       \n",
    "                       \n",
    "\n",
    "googleIDCovid19Dict = DensityOfLocation(ListVisitDictionary, geoJsonList)\n",
    "print(googleIDCovid19Dict)"
   ]
  },
  {
   "cell_type": "code",
   "execution_count": 198,
   "metadata": {
    "colab": {},
    "colab_type": "code",
    "id": "s_9b31r4vkx2"
   },
   "outputs": [
    {
     "name": "stdout",
     "output_type": "stream",
     "text": [
      "low count is 9\n",
      "high count is4\n",
      "moderate count is 7\n",
      "low count is 9\n",
      "high count is4\n",
      "moderate count is 7\n",
      "low count is 9\n",
      "high count is4\n",
      "moderate count is 7\n",
      "low count is 9\n",
      "high count is4\n",
      "moderate count is 7\n",
      "low count is 9\n",
      "high count is4\n",
      "moderate count is 7\n",
      "low count is 9\n",
      "high count is4\n",
      "moderate count is 7\n",
      "low count is 9\n",
      "high count is4\n",
      "moderate count is 7\n",
      "low count is 9\n",
      "high count is4\n",
      "moderate count is 7\n",
      "low count is 9\n",
      "high count is4\n",
      "moderate count is 7\n",
      "low count is 9\n",
      "high count is4\n",
      "moderate count is 7\n",
      "low count is 9\n",
      "high count is4\n",
      "moderate count is 7\n",
      "low count is 9\n",
      "high count is4\n",
      "moderate count is 7\n",
      "low count is 9\n",
      "high count is4\n",
      "moderate count is 7\n",
      "low count is 9\n",
      "high count is4\n",
      "moderate count is 7\n",
      "low count is 9\n",
      "high count is4\n",
      "moderate count is 7\n",
      "low count is 9\n",
      "high count is4\n",
      "moderate count is 7\n",
      "low count is 9\n",
      "high count is4\n",
      "moderate count is 7\n",
      "low count is 9\n",
      "high count is4\n",
      "moderate count is 7\n",
      "low count is 9\n",
      "high count is4\n",
      "moderate count is 7\n",
      "low count is 9\n",
      "high count is4\n",
      "moderate count is 7\n",
      "{'[35.74788, -88.3162]': 7.5, '[30.17746, -76.51552]': 7.5, '[39.45621, -116.56346]': 7.5, '[29.65163, -76.72803]': 7.5, '[28.15112, -96.39774]': 7.5, '[40.60538, -87.88754]': 7.5, '[47.76232, -87.65644]': 7.5, '[44.99012, -87.882]': 7.5, '[38.58894, -93.75018]': 7.5, '[39.71734, -117.79394]': 7.5, '[33.98154, -74.28459]': 7.5, '[33.72255, -73.99681]': 7.5, '[41.80753, -78.04471]': 7.5, '[40.67705, -91.77127]': 7.5, '[39.71734, -117.70755]': 7.5, '[41.8542, -84.23381]': 7.5, '[34.14251, -75.60804]': 7.5, '[37.95143, -78.19444]': 7.5, '[40.2737, -111.78903]': 7.5, '[41.57721, -87.882]': 7.5}\n"
     ]
    }
   ],
   "source": [
    "def severityOfArea(googleIDCovid19Dict, ListVisitDictionary) :\n",
    "    \n",
    "    googleIDSeverity_dict = {}\n",
    "    \n",
    "    for coordinateKey in googleIDCovid19Dict:\n",
    "        highCount = 0\n",
    "        moderateCount = 0\n",
    "        lowCount = 0\n",
    "        highWeight = 1\n",
    "        moderateWeight = 0.5\n",
    "        weightSum = 0\n",
    "        for subDict in ListVisitDictionary:\n",
    "            for key in subDict:\n",
    "                \n",
    "                if (subDict[key][2].lower() == \"HasCovid19\".lower()):\n",
    "                    \n",
    "                    highCount = highCount + 1\n",
    "                elif (subDict[key][2].lower() == \"PotentialCovid19\".lower()) :\n",
    "                    moderateCount = moderateCount + 1\n",
    "                else : \n",
    "                    lowCount = lowCount + 1\n",
    "        print(\"low count is \" + str(lowCount))\n",
    "        print(\"high count is\"+ str(highCount))\n",
    "        print(\"moderate count is \" + str(moderateCount))\n",
    "        weightedSum = ((highWeight * highCount) + (moderateWeight*moderateCount) + (0 * lowCount))\n",
    "        googleIDSeverity_dict[coordinateKey] = weightedSum\n",
    "    return googleIDSeverity_dict\n",
    "\n",
    "googleIDSeverity_dict = severityOfArea(googleIDCovid19Dict, ListVisitDictionary)\n",
    "print(googleIDSeverity_dict)"
   ]
  },
  {
   "cell_type": "code",
   "execution_count": null,
   "metadata": {},
   "outputs": [],
   "source": []
  },
  {
   "cell_type": "code",
   "execution_count": null,
   "metadata": {},
   "outputs": [],
   "source": []
  },
  {
   "cell_type": "code",
   "execution_count": null,
   "metadata": {},
   "outputs": [],
   "source": []
  },
  {
   "cell_type": "code",
   "execution_count": null,
   "metadata": {},
   "outputs": [],
   "source": []
  }
 ],
 "metadata": {
  "colab": {
   "authorship_tag": "ABX9TyM1gUL6kY++cvu8nLMzm68T",
   "name": "ibmCLoubCOVID.ipynb",
   "provenance": []
  },
  "kernelspec": {
   "display_name": "Python 3",
   "language": "python",
   "name": "python3"
  },
  "language_info": {
   "codemirror_mode": {
    "name": "ipython",
    "version": 3
   },
   "file_extension": ".py",
   "mimetype": "text/x-python",
   "name": "python",
   "nbconvert_exporter": "python",
   "pygments_lexer": "ipython3",
   "version": "3.7.3"
  }
 },
 "nbformat": 4,
 "nbformat_minor": 1
}
