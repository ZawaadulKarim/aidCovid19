{
 "cells": [
  {
   "cell_type": "code",
   "execution_count": 1709,
   "metadata": {
    "colab": {
     "base_uri": "https://localhost:8080/",
     "height": 87
    },
    "colab_type": "code",
    "executionInfo": {
     "elapsed": 3354,
     "status": "ok",
     "timestamp": 1587959204201,
     "user": {
      "displayName": "Ajmain Naqib",
      "photoUrl": "https://lh3.googleusercontent.com/a-/AOh14GhhKSJySy-7u5m7AnlSmnYnKEEc1nb-WOMxCz2eLXg=s64",
      "userId": "11591356358542650398"
     },
     "user_tz": 300
    },
    "id": "JUav-Q7fu1mf",
    "outputId": "6dab68a6-d96d-4ce3-e46f-1a5bc1979990"
   },
   "outputs": [
    {
     "name": "stdout",
     "output_type": "stream",
     "text": [
      "Requirement already satisfied: faker in /anaconda3/lib/python3.7/site-packages (4.0.3)\n",
      "Requirement already satisfied: text-unidecode==1.3 in /anaconda3/lib/python3.7/site-packages (from faker) (1.3)\n",
      "Requirement already satisfied: python-dateutil>=2.4 in /anaconda3/lib/python3.7/site-packages (from faker) (2.8.0)\n",
      "Requirement already satisfied: six>=1.5 in /anaconda3/lib/python3.7/site-packages (from python-dateutil>=2.4->faker) (1.12.0)\n",
      "Note: you may need to restart the kernel to use updated packages.\n"
     ]
    }
   ],
   "source": [
    "pip install faker"
   ]
  },
  {
   "cell_type": "code",
   "execution_count": 1710,
   "metadata": {
    "colab": {},
    "colab_type": "code",
    "id": "WWii_F1NuNwH"
   },
   "outputs": [],
   "source": [
    "from cloudant.client import Cloudant\n",
    "from cloudant.error import CloudantException\n",
    "from cloudant.result import Result, ResultByKey\n",
    "from datetime import datetime\n",
    "from faker import Faker\n",
    "import random\n",
    "import json"
   ]
  },
  {
   "cell_type": "code",
   "execution_count": 1711,
   "metadata": {
    "colab": {},
    "colab_type": "code",
    "id": "rfTsE5CLuSoV"
   },
   "outputs": [],
   "source": [
    "username =  \"b47f2543-95d8-4c01-b864-cf9fcb230ba7-bluemix\"\n",
    "password = \"N6i0LnK7GlPfKyf1w2vo_pWYGP254k-g6Y78d32LiDx6\"\n",
    "client = Cloudant.iam(username, password)\n",
    "client.connect()\n",
    "databaseName = \"maindatabase\"\n",
    "mainDatabase = client.create_database(databaseName)"
   ]
  },
  {
   "cell_type": "code",
   "execution_count": 1712,
   "metadata": {
    "colab": {
     "base_uri": "https://localhost:8080/",
     "height": 54
    },
    "colab_type": "code",
    "executionInfo": {
     "elapsed": 597,
     "status": "ok",
     "timestamp": 1587959424909,
     "user": {
      "displayName": "Ajmain Naqib",
      "photoUrl": "https://lh3.googleusercontent.com/a-/AOh14GhhKSJySy-7u5m7AnlSmnYnKEEc1nb-WOMxCz2eLXg=s64",
      "userId": "11591356358542650398"
     },
     "user_tz": 300
    },
    "id": "kkEMX0c0vG1u",
    "outputId": "31a825ae-0ec5-496b-8465-6a49f93b1dff"
   },
   "outputs": [],
   "source": [
    "ListOfGooglePlaceID = []\n",
    "ListOfGooglePlaceID.append(\"ChIJs--MqP1YwokRBwAhjXWIHn8\")\n",
    "ListOfGooglePlaceID.append(\"ChIJOwg_06VPwokRYv534QaPC8g\")\n",
    "ListOfGooglePlaceID.append(\"ChIJ9TRDoBBawokR5gdcflPqvjE\")\n",
    "ListOfGooglePlaceID.append(\"ChIJlYpIkBBawokRjyd8kYQpUrc\")\n",
    "ListOfGooglePlaceID.append(\"ChIJUXPOvRBawokR2iT8sI7Mq3U\")\n",
    "ListOfGooglePlaceID.append(\"ChIJh-L3uxlawokRDwLmkKwLIvY\")\n",
    "ListOfGooglePlaceID.append(\"ChIJPTJohhdawokR5-M2cwZ2WDo\")\n",
    "ListOfGooglePlaceID.append(\"ChIJ-8HrdxtawokREfw5AkGs_Os\")\n",
    "ListOfGooglePlaceID.append(\"ChIJ-ziaVBZawokRj7B7C4qAWPY\")\n",
    "ListOfGooglePlaceID.append(\"ChIJNfKP5xdawokRyCFSWap_ogE\")\n",
    "ListOfGooglePlaceID.append(\"ChIJ_7B6nRZawokRRg3UBR5XohI\")\n",
    "ListOfGooglePlaceID.append(\"ChIJ0fci9hNawokRJVR9hdTAt80\")\n",
    "ListOfGooglePlaceID.append(\"ChIJ9TRDoBBawokRJgmlJa_UJ0E\")\n",
    "ListOfGooglePlaceID.append(\"ChIJbd_WExZawokRbBhzy1Hc4Ms\")\n",
    "ListOfGooglePlaceID.append(\"ChIJuydjIhZawokRG1-vnBMShEw\")\n",
    "ListOfGooglePlaceID.append(\"ChIJ7UBKbh9awokRsLNXAfxLoHs\")\n",
    "ListOfGooglePlaceID.append(\"ChIJ7xcL8z1awokRPFmLkB9tXHc\")\n",
    "ListOfGooglePlaceID.append(\"ChIJ3blcJRRawokRex4mbeb9Ix4\")\n",
    "ListOfGooglePlaceID.append(\"ChIJl4BZ5opZwokRUR0n7MrTIEA\")\n",
    "ListOfGooglePlaceID.append(\"ChIJodiAGRZawokRHXCBqdWXV54\")\n",
    "ListOfGooglePlaceID.append(\"ChIJ3a-_JdJQwokR2SXNohPwSQI\")\n",
    "\n",
    "\n",
    "\n"
   ]
  },
  {
   "cell_type": "code",
   "execution_count": null,
   "metadata": {},
   "outputs": [],
   "source": [
    "\n"
   ]
  },
  {
   "cell_type": "code",
   "execution_count": 1713,
   "metadata": {
    "colab": {
     "base_uri": "https://localhost:8080/",
     "height": 34
    },
    "colab_type": "code",
    "executionInfo": {
     "elapsed": 625,
     "status": "ok",
     "timestamp": 1587959441330,
     "user": {
      "displayName": "Ajmain Naqib",
      "photoUrl": "https://lh3.googleusercontent.com/a-/AOh14GhhKSJySy-7u5m7AnlSmnYnKEEc1nb-WOMxCz2eLXg=s64",
      "userId": "11591356358542650398"
     },
     "user_tz": 300
    },
    "id": "F7hXw2QIvHVa",
    "outputId": "5cc2e0a9-d950-4d94-e29a-120230229fab"
   },
   "outputs": [
    {
     "name": "stdout",
     "output_type": "stream",
     "text": [
      "[{'coordinates': [-74.006058, 40.712772], 'type': 'Point'}, {'coordinates': [-74.005973, 40.712775], 'type': 'Point'}, {'coordinates': [-74.014671, 40.709504], 'type': 'Point'}, {'coordinates': [-74.013651, 40.709137], 'type': 'Point'}, {'coordinates': [-74.013651, 40.709137], 'type': 'Point'}, {'coordinates': [-74.010333, 40.711114], 'type': 'Point'}, {'coordinates': [-74.009123, 40.715036], 'type': 'Point'}, {'coordinates': [-74.01584, 40.706762], 'type': 'Point'}, {'coordinates': [-74.008945, 40.706762], 'type': 'Point'}, {'coordinates': [-74.007214, 40.70792], 'type': 'Point'}, {'coordinates': [-74.010322, 40.704642], 'type': 'Point'}, {'coordinates': [-74.012354, 40.70395], 'type': 'Point'}, {'coordinates': [-74.013888, 40.709797], 'type': 'Point'}, {'coordinates': [-74.007936, 40.705129], 'type': 'Point'}, {'coordinates': [-74.007189, 40.705562], 'type': 'Point'}, {'coordinates': [-74.007367, 40.715947], 'type': 'Point'}, {'coordinates': [-74.006177, 40.705063], 'type': 'Point'}, {'coordinates': [-74.010336, 40.704129], 'type': 'Point'}, {'coordinates': [-74.012052, 40.715534], 'type': 'Point'}, {'coordinates': [-74.011265, 40.706877], 'type': 'Point'}, {'coordinates': [-74.043143, 40.717755], 'type': 'Point'}]\n"
     ]
    }
   ],
   "source": [
    "geoJsonNyc1 = {\"coordinates\": [-74.006058, 40.712772], \"type\":\"Point\"}\n",
    "geoJsonNyc2 = {\"coordinates\": [-74.005973, 40.712775], \"type\":\"Point\"}\n",
    "geoJsonNyc3 = {\"coordinates\": [-74.014671, 40.709504], \"type\":\"Point\"}\n",
    "geoJsonNyc4 = {\"coordinates\": [-74.013651, 40.709137], \"type\":\"Point\"}\n",
    "geoJsonNyc5 = {\"coordinates\": [-74.013651, 40.709137], \"type\":\"Point\"}\n",
    "geoJsonNyc6 = {\"coordinates\": [-74.010333, 40.711114], \"type\":\"Point\"}\n",
    "geoJsonNyc7 = {\"coordinates\": [-74.009123, 40.715036], \"type\":\"Point\"}\n",
    "geoJsonNyc8 = {\"coordinates\": [-74.015840, 40.706762], \"type\":\"Point\"}\n",
    "geoJsonNyc9 = {\"coordinates\": [-74.008945, 40.706762], \"type\":\"Point\"}\n",
    "geoJsonNyc10 = {\"coordinates\": [-74.007214, 40.707920], \"type\":\"Point\"}\n",
    "geoJsonNyc11 = {\"coordinates\": [-74.010322, 40.704642], \"type\":\"Point\"}\n",
    "geoJsonNyc12 = {\"coordinates\": [-74.012354, 40.703950], \"type\":\"Point\"}\n",
    "geoJsonNyc13 = {\"coordinates\": [-74.013888, 40.709797], \"type\":\"Point\"}\n",
    "geoJsonNyc14 = {\"coordinates\": [-74.007936, 40.705129], \"type\":\"Point\"}\n",
    "geoJsonNyc15 = {\"coordinates\": [-74.007189, 40.705562], \"type\":\"Point\"}\n",
    "geoJsonNyc16 = {\"coordinates\": [-74.007367, 40.715947], \"type\":\"Point\"}\n",
    "geoJsonNyc17 = {\"coordinates\": [-74.006177, 40.705063], \"type\":\"Point\"}\n",
    "geoJsonNyc18 = {\"coordinates\": [-74.010336, 40.704129], \"type\":\"Point\"}\n",
    "geoJsonNyc19 = {\"coordinates\": [-74.012052, 40.715534], \"type\":\"Point\"}\n",
    "geoJsonNyc20 = {\"coordinates\": [-74.011265, 40.706877], \"type\":\"Point\"}\n",
    "geoJsonNyc21 = {\"coordinates\": [-74.043143, 40.717755], \"type\":\"Point\"}\n",
    "\n",
    "\n",
    "geoJsonList = []\n",
    "geoJsonList.append(geoJsonNyc1)\n",
    "geoJsonList.append(geoJsonNyc2)\n",
    "geoJsonList.append(geoJsonNyc3)\n",
    "geoJsonList.append(geoJsonNyc4)\n",
    "geoJsonList.append(geoJsonNyc5)\n",
    "geoJsonList.append(geoJsonNyc6)\n",
    "geoJsonList.append(geoJsonNyc7)\n",
    "geoJsonList.append(geoJsonNyc8)\n",
    "geoJsonList.append(geoJsonNyc9)\n",
    "geoJsonList.append(geoJsonNyc10)\n",
    "geoJsonList.append(geoJsonNyc11)\n",
    "geoJsonList.append(geoJsonNyc12)\n",
    "geoJsonList.append(geoJsonNyc13)\n",
    "geoJsonList.append(geoJsonNyc14)\n",
    "geoJsonList.append(geoJsonNyc15)\n",
    "geoJsonList.append(geoJsonNyc16)\n",
    "geoJsonList.append(geoJsonNyc17)\n",
    "geoJsonList.append(geoJsonNyc18)\n",
    "geoJsonList.append(geoJsonNyc19)\n",
    "geoJsonList.append(geoJsonNyc20)\n",
    "geoJsonList.append(geoJsonNyc21)\n",
    "print(geoJsonList)\n",
    "\n",
    "\n",
    "\n"
   ]
  },
  {
   "cell_type": "code",
   "execution_count": 1714,
   "metadata": {
    "colab": {
     "base_uri": "https://localhost:8080/",
     "height": 254
    },
    "colab_type": "code",
    "executionInfo": {
     "elapsed": 612,
     "status": "error",
     "timestamp": 1587959477606,
     "user": {
      "displayName": "Ajmain Naqib",
      "photoUrl": "https://lh3.googleusercontent.com/a-/AOh14GhhKSJySy-7u5m7AnlSmnYnKEEc1nb-WOMxCz2eLXg=s64",
      "userId": "11591356358542650398"
     },
     "user_tz": 300
    },
    "id": "m9CavlLXvJPL",
    "outputId": "d80bf7f1-9378-4c53-f51e-676738c5cf2b"
   },
   "outputs": [
    {
     "name": "stdout",
     "output_type": "stream",
     "text": [
      "332862120\n"
     ]
    }
   ],
   "source": [
    "def randomizeCondition() :\n",
    "    num = random.randint(0, 2)\n",
    "    if (num == 0) :\n",
    "        return \"Recovered/NoCovid19\"\n",
    "    if (num == 1) :\n",
    "        return \"PotentialCovid19\"\n",
    "    if (num == 2) :\n",
    "        return \"HasCovid19\"\n",
    "status = randomizeCondition()\n",
    "\n",
    "def randomizeVisitID() :\n",
    "    \n",
    "    return random.randint(0, 999999999)\n",
    "\n",
    "visit_id = randomizeVisitID()\n",
    "print(visit_id)\n",
    "\n",
    "def initListVisitDictionary(geoJsonList) :\n",
    "    visitListDictionary = []\n",
    "    for i in range(21):\n",
    "        visitListDictionary.append({str(geoJsonList[i][\"coordinates\"]):[randomizeVisitID(), datetime.__str__(datetime(2020, 3, 13)), randomizeCondition()]})     \n",
    "    return visitListDictionary\n",
    "\n",
    "ListVisitDictionary = initListVisitDictionary(geoJsonList)\n",
    "\n",
    "\n",
    "def randomizeTransactionID() :\n",
    "    return random.randint(0, 32800000)\n",
    "\n",
    "def randomizeContributionID() :\n",
    "    return random.randint(0, 32800000)\n",
    "\n",
    "def init_ListJsonDocument(ListVisitDictionary, geoJsonList):\n",
    "    ListJsonDocument = []\n",
    "    for i in range(len(geoJsonList)):\n",
    "        jsonDocument = {\n",
    "            \"TransactionID\" : randomizeTransactionID(),\n",
    "            \"ContributorID\" : randomizeContributionID(),\n",
    "            \"GooglePlaceID\": ListOfGooglePlaceID[i],\n",
    "            \"geometry\": geoJsonList[i],\n",
    "            \"VisitDictionary\": ListVisitDictionary[i]     \n",
    "        }\n",
    "        type(jsonDocument)\n",
    "        ListJsonDocument.append(jsonDocument)\n",
    "    return ListJsonDocument\n",
    "\n"
   ]
  },
  {
   "cell_type": "code",
   "execution_count": 1715,
   "metadata": {},
   "outputs": [
    {
     "name": "stdout",
     "output_type": "stream",
     "text": [
      "[{'[-74.006058, 40.712772]': [829546505, '2020-03-13 00:00:00', 'PotentialCovid19']}, {'[-74.005973, 40.712775]': [683392916, '2020-03-13 00:00:00', 'PotentialCovid19']}, {'[-74.014671, 40.709504]': [580012845, '2020-03-13 00:00:00', 'Recovered/NoCovid19']}, {'[-74.013651, 40.709137]': [328233462, '2020-03-13 00:00:00', 'HasCovid19']}, {'[-74.013651, 40.709137]': [274103840, '2020-03-13 00:00:00', 'HasCovid19']}, {'[-74.010333, 40.711114]': [940573736, '2020-03-13 00:00:00', 'HasCovid19']}, {'[-74.009123, 40.715036]': [914298822, '2020-03-13 00:00:00', 'HasCovid19']}, {'[-74.01584, 40.706762]': [237530908, '2020-03-13 00:00:00', 'Recovered/NoCovid19']}, {'[-74.008945, 40.706762]': [945002601, '2020-03-13 00:00:00', 'PotentialCovid19']}, {'[-74.007214, 40.70792]': [267671489, '2020-03-13 00:00:00', 'PotentialCovid19']}, {'[-74.010322, 40.704642]': [900001056, '2020-03-13 00:00:00', 'PotentialCovid19']}, {'[-74.012354, 40.70395]': [48118897, '2020-03-13 00:00:00', 'HasCovid19']}, {'[-74.013888, 40.709797]': [536707498, '2020-03-13 00:00:00', 'PotentialCovid19']}, {'[-74.007936, 40.705129]': [62268997, '2020-03-13 00:00:00', 'PotentialCovid19']}, {'[-74.007189, 40.705562]': [383939538, '2020-03-13 00:00:00', 'PotentialCovid19']}, {'[-74.007367, 40.715947]': [868982848, '2020-03-13 00:00:00', 'PotentialCovid19']}, {'[-74.006177, 40.705063]': [922637865, '2020-03-13 00:00:00', 'Recovered/NoCovid19']}, {'[-74.010336, 40.704129]': [426676885, '2020-03-13 00:00:00', 'Recovered/NoCovid19']}, {'[-74.012052, 40.715534]': [165274182, '2020-03-13 00:00:00', 'Recovered/NoCovid19']}, {'[-74.011265, 40.706877]': [818760417, '2020-03-13 00:00:00', 'HasCovid19']}, {'[-74.043143, 40.717755]': [257543972, '2020-03-13 00:00:00', 'PotentialCovid19']}]\n"
     ]
    }
   ],
   "source": [
    "print(ListVisitDictionary)"
   ]
  },
  {
   "cell_type": "code",
   "execution_count": null,
   "metadata": {
    "colab": {
     "base_uri": "https://localhost:8080/",
     "height": 184
    },
    "colab_type": "code",
    "executionInfo": {
     "elapsed": 1067,
     "status": "error",
     "timestamp": 1587959455390,
     "user": {
      "displayName": "Ajmain Naqib",
      "photoUrl": "https://lh3.googleusercontent.com/a-/AOh14GhhKSJySy-7u5m7AnlSmnYnKEEc1nb-WOMxCz2eLXg=s64",
      "userId": "11591356358542650398"
     },
     "user_tz": 300
    },
    "id": "8pG3jbsHvUJX",
    "outputId": "af0e8e0e-340e-4654-dadc-24a7b2b43cb7"
   },
   "outputs": [],
   "source": [
    "\n",
    "\n"
   ]
  },
  {
   "cell_type": "code",
   "execution_count": 1716,
   "metadata": {
    "colab": {},
    "colab_type": "code",
    "id": "WNcWxBvSvaBV"
   },
   "outputs": [],
   "source": [
    "def initListIBMDataBaseDocument(ListJsonDocument) :\n",
    "    ListIBMDataBaseDocument = []\n",
    "    for i in ListJsonDocument:\n",
    "        newDocument = mainDatabase.create_document(i)\n",
    "        ListIBMDataBaseDocument.append(newDocument)\n",
    "    return ListIBMDataBaseDocument\n",
    "ListIBMDataBaseDocument = initListIBMDataBaseDocument(ListJsonDocument)"
   ]
  },
  {
   "cell_type": "code",
   "execution_count": 1717,
   "metadata": {},
   "outputs": [
    {
     "name": "stdout",
     "output_type": "stream",
     "text": [
      "[{'TransactionID': 22408149, 'ContributorID': 24801727, 'GooglePlaceID': 'ChIJs--MqP1YwokRBwAhjXWIHn8', 'geometry': {'coordinates': [40.712772, -74.006058], 'type': 'Point'}, 'VisitDictionary': {'[40.712772, -74.006058]': [508311112, '2020-03-13 00:00:00', 'HasCovid19']}, '_id': '3bb25ccc8742d540f2b0bcf2dd99c8c8', '_rev': '1-4e920a6c264f845a3cb117151394237c'}, {'TransactionID': 4874235, 'ContributorID': 30647152, 'GooglePlaceID': 'ChIJOwg_06VPwokRYv534QaPC8g', 'geometry': {'coordinates': [40.712775, -74.005973], 'type': 'Point'}, 'VisitDictionary': {'[40.712775, -74.005973]': [251673167, '2020-03-13 00:00:00', 'PotentialCovid19']}, '_id': '710e24f85b3431577c382d15d38732ee', '_rev': '1-71067e9b965e38718068e3440a380525'}, {'TransactionID': 32276609, 'ContributorID': 17660365, 'GooglePlaceID': 'ChIJ9TRDoBBawokR5gdcflPqvjE', 'geometry': {'coordinates': [40.709504, -74.014671], 'type': 'Point'}, 'VisitDictionary': {'[40.709504, -74.014671]': [529390308, '2020-03-13 00:00:00', 'Recovered/NoCovid19']}, '_id': '422e0bea84cb99e1084db044acc3b7e9', '_rev': '1-bb226351db7a642258fff9479295fb5a'}, {'TransactionID': 24776838, 'ContributorID': 27610845, 'GooglePlaceID': 'ChIJlYpIkBBawokRjyd8kYQpUrc', 'geometry': {'coordinates': [40.709137, -74.013651], 'type': 'Point'}, 'VisitDictionary': {'[40.709137, -74.013651]': [665772119, '2020-03-13 00:00:00', 'Recovered/NoCovid19']}, '_id': 'd0a227e42eead2ff8cdb68914b06165f', '_rev': '1-b563f58a79eaf7d06173926c4e206a70'}, {'TransactionID': 32274426, 'ContributorID': 24213588, 'GooglePlaceID': 'ChIJUXPOvRBawokR2iT8sI7Mq3U', 'geometry': {'coordinates': [40.709137, -74.013651], 'type': 'Point'}, 'VisitDictionary': {'[40.709137, -74.013651]': [392605149, '2020-03-13 00:00:00', 'Recovered/NoCovid19']}, '_id': 'a3727bd888efa3052cb966692441fdbe', '_rev': '1-d67ff2108130d27cfb1978dcb0468c00'}, {'TransactionID': 24705164, 'ContributorID': 10558319, 'GooglePlaceID': 'ChIJh-L3uxlawokRDwLmkKwLIvY', 'geometry': {'coordinates': [40.711114, -74.010333], 'type': 'Point'}, 'VisitDictionary': {'[40.711114, -74.010333]': [122472275, '2020-03-13 00:00:00', 'HasCovid19']}, '_id': '1c88b0b9cea7a390a840b9df7d2f5daf', '_rev': '1-445855a9184400030241071d125b6c9e'}, {'TransactionID': 15752542, 'ContributorID': 12840149, 'GooglePlaceID': 'ChIJPTJohhdawokR5-M2cwZ2WDo', 'geometry': {'coordinates': [40.708977, -74.009123], 'type': 'Point'}, 'VisitDictionary': {'[40.708977, -74.009123]': [888580361, '2020-03-13 00:00:00', 'PotentialCovid19']}, '_id': '5069e2228434502bf8f873e1c7f4c40b', '_rev': '1-9436ccbc8a28322896952c0f6a4315d4'}, {'TransactionID': 27803931, 'ContributorID': 29419696, 'GooglePlaceID': 'ChIJ-8HrdxtawokREfw5AkGs_Os', 'geometry': {'coordinates': [40.715036, -74.01584], 'type': 'Point'}, 'VisitDictionary': {'[40.715036, -74.01584]': [204479604, '2020-03-13 00:00:00', 'HasCovid19']}, '_id': 'd0a227e42eead2ff8cdb68914b061992', '_rev': '1-ad3c654161cd9ddf81f3239623c8d652'}, {'TransactionID': 7112038, 'ContributorID': 29878593, 'GooglePlaceID': 'ChIJ-ziaVBZawokRj7B7C4qAWPY', 'geometry': {'coordinates': [40.706762, -74.008945], 'type': 'Point'}, 'VisitDictionary': {'[40.706762, -74.008945]': [716852995, '2020-03-13 00:00:00', 'HasCovid19']}, '_id': 'a3727bd888efa3052cb9666924420139', '_rev': '1-c6222e25c100a61b4a1e074198d79f6b'}, {'TransactionID': 9522463, 'ContributorID': 24799258, 'GooglePlaceID': 'ChIJNfKP5xdawokRyCFSWap_ogE', 'geometry': {'coordinates': [40.70792, -74.007214], 'type': 'Point'}, 'VisitDictionary': {'[40.70792, -74.007214]': [259075628, '2020-03-13 00:00:00', 'PotentialCovid19']}, '_id': 'ff210d1edcad71c4a8acaff242fe0cd1', '_rev': '1-eda02577e129717c6558c51a8df46efe'}, {'TransactionID': 9503913, 'ContributorID': 15898974, 'GooglePlaceID': 'ChIJ_7B6nRZawokRRg3UBR5XohI', 'geometry': {'coordinates': [40.704642, -74.010322], 'type': 'Point'}, 'VisitDictionary': {'[40.704642, -74.010322]': [20202792, '2020-03-13 00:00:00', 'PotentialCovid19']}, '_id': 'd0a227e42eead2ff8cdb68914b062844', '_rev': '1-e569fdda030954702c3463a31340edb8'}, {'TransactionID': 4245858, 'ContributorID': 11224517, 'GooglePlaceID': 'ChIJ0fci9hNawokRJVR9hdTAt80', 'geometry': {'coordinates': [40.70395, -74.012354], 'type': 'Point'}, 'VisitDictionary': {'[40.70395, -74.012354]': [265450331, '2020-03-13 00:00:00', 'PotentialCovid19']}, '_id': '490455951cbadb35da07db2310dd4228', '_rev': '1-0d6984f1fa9ebe1585d097d8c87cde43'}, {'TransactionID': 18494532, 'ContributorID': 17185103, 'GooglePlaceID': 'ChIJ9TRDoBBawokRJgmlJa_UJ0E', 'geometry': {'coordinates': [40.709797, -74.013888], 'type': 'Point'}, 'VisitDictionary': {'[40.709797, -74.013888]': [231423369, '2020-03-13 00:00:00', 'Recovered/NoCovid19']}, '_id': '710e24f85b3431577c382d15d38736e3', '_rev': '1-b2653f6c2dc2eaa5db5f07828a35adc3'}, {'TransactionID': 27321259, 'ContributorID': 3727929, 'GooglePlaceID': 'ChIJbd_WExZawokRbBhzy1Hc4Ms', 'geometry': {'coordinates': [40.705129, -74.007936], 'type': 'Point'}, 'VisitDictionary': {'[40.705129, -74.007936]': [821285188, '2020-03-13 00:00:00', 'Recovered/NoCovid19']}, '_id': '422e0bea84cb99e1084db044acc3c0b4', '_rev': '1-9740f50f65eaa7f6d5cbdcb01183ad69'}, {'TransactionID': 10311000, 'ContributorID': 17082597, 'GooglePlaceID': 'ChIJuydjIhZawokRG1-vnBMShEw', 'geometry': {'coordinates': [40.705562, -74.007189], 'type': 'Point'}, 'VisitDictionary': {'[40.705562, -74.007189]': [118709100, '2020-03-13 00:00:00', 'Recovered/NoCovid19']}, '_id': '5069e2228434502bf8f873e1c7f4ddf0', '_rev': '1-3c2e18a5db6c7241520802356149676a'}, {'TransactionID': 6660836, 'ContributorID': 6153235, 'GooglePlaceID': 'ChIJ7UBKbh9awokRsLNXAfxLoHs', 'geometry': {'coordinates': [40.715947, -74.007367], 'type': 'Point'}, 'VisitDictionary': {'[40.715947, -74.007367]': [888381693, '2020-03-13 00:00:00', 'Recovered/NoCovid19']}, '_id': 'ff210d1edcad71c4a8acaff242fe12af', '_rev': '1-e8f489c458f951c9990596e1220cfa97'}, {'TransactionID': 4815197, 'ContributorID': 11953596, 'GooglePlaceID': 'ChIJ7xcL8z1awokRPFmLkB9tXHc', 'geometry': {'coordinates': [40.705063, -74.006177], 'type': 'Point'}, 'VisitDictionary': {'[40.705063, -74.006177]': [72111360, '2020-03-13 00:00:00', 'HasCovid19']}, '_id': '490455951cbadb35da07db2310dd51b0', '_rev': '1-0ca843909e2c1a1ca585daea3ef2e1a6'}, {'TransactionID': 4145610, 'ContributorID': 26718385, 'GooglePlaceID': 'ChIJ3blcJRRawokRex4mbeb9Ix4', 'geometry': {'coordinates': [40.704129, -74.010336], 'type': 'Point'}, 'VisitDictionary': {'[40.704129, -74.010336]': [243133498, '2020-03-13 00:00:00', 'HasCovid19']}, '_id': '710e24f85b3431577c382d15d3874431', '_rev': '1-ef9801303f2d2027044761c875ad504f'}, {'TransactionID': 14866929, 'ContributorID': 2799850, 'GooglePlaceID': 'ChIJl4BZ5opZwokRUR0n7MrTIEA', 'geometry': {'coordinates': [40.715534, -74.012052], 'type': 'Point'}, 'VisitDictionary': {'[40.715534, -74.012052]': [458284575, '2020-03-13 00:00:00', 'PotentialCovid19']}, '_id': '127b4cade729f725f99f7af18486b4f1', '_rev': '1-3f187daed418e02e31f45bd7a3e8e41b'}, {'TransactionID': 11880021, 'ContributorID': 1622018, 'GooglePlaceID': 'ChIJodiAGRZawokRHXCBqdWXV54', 'geometry': {'coordinates': [40.706877, -74.011265], 'type': 'Point'}, 'VisitDictionary': {'[40.706877, -74.011265]': [650753590, '2020-03-13 00:00:00', 'HasCovid19']}, '_id': '7c60d3f3b3d3956dd30cafae538094d1', '_rev': '1-a4bff3cca92268eae2187b45f85d5733'}, {'TransactionID': 18365652, 'ContributorID': 1812419, 'GooglePlaceID': 'ChIJ3a-_JdJQwokR2SXNohPwSQI', 'geometry': {'coordinates': [40.717755, -74.043143], 'type': 'Point'}, 'VisitDictionary': {'[40.717755, -74.043143]': [911597341, '2020-03-13 00:00:00', 'HasCovid19']}, '_id': '3bb25ccc8742d540f2b0bcf2dd99d65d', '_rev': '1-eb9527bfe84b563aa075c8ecbc6e0cde'}]\n"
     ]
    }
   ],
   "source": [
    "print(ListIBMDataBaseDocument)"
   ]
  },
  {
   "cell_type": "code",
   "execution_count": null,
   "metadata": {
    "colab": {},
    "colab_type": "code",
    "id": "mioIGgANvgkU"
   },
   "outputs": [],
   "source": []
  },
  {
   "cell_type": "code",
   "execution_count": 1718,
   "metadata": {
    "colab": {},
    "colab_type": "code",
    "id": "s_9b31r4vkx2"
   },
   "outputs": [
    {
     "name": "stdout",
     "output_type": "stream",
     "text": [
      "[40.712772, -74.006058]\n",
      "[40.712775, -74.005973]\n",
      "[40.709504, -74.014671]\n",
      "[40.709137, -74.013651]\n",
      "[40.709137, -74.013651]\n",
      "[40.711114, -74.010333]\n",
      "[40.708977, -74.009123]\n",
      "[40.715036, -74.01584]\n",
      "[40.706762, -74.008945]\n",
      "[40.70792, -74.007214]\n",
      "[40.704642, -74.010322]\n",
      "[40.70395, -74.012354]\n",
      "[40.709797, -74.013888]\n",
      "[40.705129, -74.007936]\n",
      "[40.705562, -74.007189]\n",
      "[40.715947, -74.007367]\n",
      "[40.705063, -74.006177]\n",
      "[40.704129, -74.010336]\n",
      "[40.715534, -74.012052]\n",
      "[40.706877, -74.011265]\n",
      "[40.717755, -74.043143]\n",
      "{(40.712772, -74.006058): 1.0, (40.712775, -74.005973): 1.5, (40.709504, -74.014671): 1.5, (40.709137, -74.013651): 3.0, (40.711114, -74.010333): 2.5, (40.708977, -74.009123): 3.0, (40.715036, -74.01584): 4.0, (40.706762, -74.008945): 5.0, (40.70792, -74.007214): 5.5, (40.704642, -74.010322): 6.0, (40.70395, -74.012354): 6.5, (40.709797, -74.013888): 6.5, (40.705129, -74.007936): 6.5, (40.705562, -74.007189): 6.5, (40.715947, -74.007367): 6.5, (40.705063, -74.006177): 7.5, (40.704129, -74.010336): 8.5, (40.715534, -74.012052): 9.0, (40.706877, -74.011265): 10.0, (40.717755, -74.043143): 11.0}\n"
     ]
    }
   ],
   "source": [
    "def severityOfArea(ListJsonDocument) :\n",
    "    locationSeverityDict = {}\n",
    "    highCount = 0\n",
    "    mediumCount = 0\n",
    "    lowCount = 0\n",
    "    highWeight = 1\n",
    "    mediumWeight = 0.5\n",
    "    weightedSum = 0\n",
    "    lowWeight = 0\n",
    "    for jsonDocument in (ListJsonDocument) :\n",
    "        weightedSum = 0\n",
    "        keyJson = jsonDocument[\"geometry\"][\"coordinates\"]\n",
    "        print(keyJson)\n",
    "        if (jsonDocument[\"VisitDictionary\"][str(keyJson)][2].lower() == \"HasCovid19\".lower()):\n",
    "            highCount = highCount + 1\n",
    "        elif (jsonDocument[\"VisitDictionary\"][str(keyJson)][2].lower() == \"PotentialCovid19\".lower()):\n",
    "            mediumCount = mediumCount + 1\n",
    "        else:\n",
    "            lowCount = lowCount + 1\n",
    "        weightedSum = weightedSum + ((highCount * highWeight) + (mediumCount * mediumWeight) + (lowCount * lowWeight))\n",
    "        if tuple(keyJson) in locationSeverityDict:\n",
    "            previousWeight = locationSeverityDict[tuple(keyJson)]\n",
    "            locationSeverityDict[tuple(keyJson)] = previousWeight + weightedSum\n",
    "        else:\n",
    "            locationSeverityDict[tuple(keyJson)] = weightedSum\n",
    "            \n",
    "                \n",
    "    return locationSeverityDict\n",
    "        \n",
    "        \n",
    "        \n",
    "\n",
    "LocationSeverityDict = severityOfArea(ListJsonDocument)\n",
    "print(LocationSeverityDict)"
   ]
  },
  {
   "cell_type": "code",
   "execution_count": null,
   "metadata": {},
   "outputs": [],
   "source": []
  },
  {
   "cell_type": "code",
   "execution_count": null,
   "metadata": {},
   "outputs": [],
   "source": []
  },
  {
   "cell_type": "code",
   "execution_count": null,
   "metadata": {},
   "outputs": [],
   "source": []
  },
  {
   "cell_type": "code",
   "execution_count": null,
   "metadata": {},
   "outputs": [],
   "source": []
  },
  {
   "cell_type": "code",
   "execution_count": null,
   "metadata": {},
   "outputs": [],
   "source": []
  },
  {
   "cell_type": "code",
   "execution_count": null,
   "metadata": {},
   "outputs": [],
   "source": []
  }
 ],
 "metadata": {
  "colab": {
   "authorship_tag": "ABX9TyM1gUL6kY++cvu8nLMzm68T",
   "name": "ibmCLoubCOVID.ipynb",
   "provenance": []
  },
  "kernelspec": {
   "display_name": "Python 3",
   "language": "python",
   "name": "python3"
  },
  "language_info": {
   "codemirror_mode": {
    "name": "ipython",
    "version": 3
   },
   "file_extension": ".py",
   "mimetype": "text/x-python",
   "name": "python",
   "nbconvert_exporter": "python",
   "pygments_lexer": "ipython3",
   "version": "3.7.3"
  }
 },
 "nbformat": 4,
 "nbformat_minor": 1
}
