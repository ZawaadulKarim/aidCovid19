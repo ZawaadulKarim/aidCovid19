{
 "cells": [
  {
   "cell_type": "code",
   "execution_count": 1568,
   "metadata": {
    "colab": {
     "base_uri": "https://localhost:8080/",
     "height": 87
    },
    "colab_type": "code",
    "executionInfo": {
     "elapsed": 3354,
     "status": "ok",
     "timestamp": 1587959204201,
     "user": {
      "displayName": "Ajmain Naqib",
      "photoUrl": "https://lh3.googleusercontent.com/a-/AOh14GhhKSJySy-7u5m7AnlSmnYnKEEc1nb-WOMxCz2eLXg=s64",
      "userId": "11591356358542650398"
     },
     "user_tz": 300
    },
    "id": "JUav-Q7fu1mf",
    "outputId": "6dab68a6-d96d-4ce3-e46f-1a5bc1979990"
   },
   "outputs": [
    {
     "name": "stdout",
     "output_type": "stream",
     "text": [
      "Requirement already satisfied: faker in /anaconda3/lib/python3.7/site-packages (4.0.3)\n",
      "Requirement already satisfied: python-dateutil>=2.4 in /anaconda3/lib/python3.7/site-packages (from faker) (2.8.0)\n",
      "Requirement already satisfied: text-unidecode==1.3 in /anaconda3/lib/python3.7/site-packages (from faker) (1.3)\n",
      "Requirement already satisfied: six>=1.5 in /anaconda3/lib/python3.7/site-packages (from python-dateutil>=2.4->faker) (1.12.0)\n",
      "Note: you may need to restart the kernel to use updated packages.\n"
     ]
    }
   ],
   "source": [
    "pip install faker"
   ]
  },
  {
   "cell_type": "code",
   "execution_count": 1569,
   "metadata": {
    "colab": {},
    "colab_type": "code",
    "id": "WWii_F1NuNwH"
   },
   "outputs": [],
   "source": [
    "from cloudant.client import Cloudant\n",
    "from cloudant.error import CloudantException\n",
    "from cloudant.result import Result, ResultByKey\n",
    "from datetime import datetime\n",
    "from faker import Faker\n",
    "import random\n",
    "import json"
   ]
  },
  {
   "cell_type": "code",
   "execution_count": 1570,
   "metadata": {
    "colab": {},
    "colab_type": "code",
    "id": "rfTsE5CLuSoV"
   },
   "outputs": [],
   "source": [
    "username = \"b47f2543-95d8-4c01-b864-cf9fcb230ba7-bluemix\"\n",
    "password = \"N6i0LnK7GlPfKyf1w2vo_pWYGP254k-g6Y78d32LiDx6\"\n",
    "client = Cloudant.iam(username, password)\n",
    "client.connect()\n",
    "databaseName = \"maindatabase\"\n",
    "mainDatabase = client.create_database(databaseName)"
   ]
  },
  {
   "cell_type": "code",
   "execution_count": null,
   "metadata": {
    "colab": {
     "base_uri": "https://localhost:8080/",
     "height": 54
    },
    "colab_type": "code",
    "executionInfo": {
     "elapsed": 597,
     "status": "ok",
     "timestamp": 1587959424909,
     "user": {
      "displayName": "Ajmain Naqib",
      "photoUrl": "https://lh3.googleusercontent.com/a-/AOh14GhhKSJySy-7u5m7AnlSmnYnKEEc1nb-WOMxCz2eLXg=s64",
      "userId": "11591356358542650398"
     },
     "user_tz": 300
    },
    "id": "kkEMX0c0vG1u",
    "outputId": "31a825ae-0ec5-496b-8465-6a49f93b1dff"
   },
   "outputs": [],
   "source": [
    "\n"
   ]
  },
  {
   "cell_type": "code",
   "execution_count": null,
   "metadata": {},
   "outputs": [],
   "source": []
  },
  {
   "cell_type": "code",
   "execution_count": 1571,
   "metadata": {
    "colab": {
     "base_uri": "https://localhost:8080/",
     "height": 34
    },
    "colab_type": "code",
    "executionInfo": {
     "elapsed": 625,
     "status": "ok",
     "timestamp": 1587959441330,
     "user": {
      "displayName": "Ajmain Naqib",
      "photoUrl": "https://lh3.googleusercontent.com/a-/AOh14GhhKSJySy-7u5m7AnlSmnYnKEEc1nb-WOMxCz2eLXg=s64",
      "userId": "11591356358542650398"
     },
     "user_tz": 300
    },
    "id": "F7hXw2QIvHVa",
    "outputId": "5cc2e0a9-d950-4d94-e29a-120230229fab"
   },
   "outputs": [
    {
     "name": "stdout",
     "output_type": "stream",
     "text": [
      "[{'GooglePlaceID': 'ChIJs--MqP1YwokRBwAhjXWIHn8', 'Coordinates': (40.712772, -74.006058)}, {'GooglePlaceID': 'ChIJOwg_06VPwokRYv534QaPC8g', 'Coordinates': (40.712775, -74.005973)}, {'GooglePlaceID': 'ChIJ9TRDoBBawokR5gdcflPqvjE', 'Coordinates': (40.709504, -74.014671)}, {'GooglePlaceID': 'ChIJlYpIkBBawokRjyd8kYQpUrc', 'Coordinates': (40.709137, -74.013651)}, {'GooglePlaceID': 'ChIJUXPOvRBawokR2iT8sI7Mq3U', 'Coordinates': (40.709137, -74.013651)}, {'GooglePlaceID': 'ChIJh-L3uxlawokRDwLmkKwLIvY', 'Coordinates': (40.711114, -74.010333)}, {'GooglePlaceID': 'ChIJPTJohhdawokR5-M2cwZ2WDo', 'Coordinates': (40.708977, -74.009123)}, {'GooglePlaceID': 'ChIJ-8HrdxtawokREfw5AkGs_Os', 'Coordinates': (40.715036, -74.01584)}, {'GooglePlaceID': 'ChIJ-ziaVBZawokRj7B7C4qAWPY', 'Coordinates': (40.706762, -74.008945)}, {'GooglePlaceID': 'ChIJNfKP5xdawokRyCFSWap_ogE', 'Coordinates': (40.70792, -74.007214)}, {'GooglePlaceID': 'ChIJ_7B6nRZawokRRg3UBR5XohI', 'Coordinates': (40.704642, -74.010322)}, {'GooglePlaceID': 'ChIJ0fci9hNawokRJVR9hdTAt80', 'Coordinates': (40.70395, -74.012354)}, {'GooglePlaceID': 'ChIJ9TRDoBBawokRJgmlJa_UJ0E', 'Coordinates': (40.709797, -74.013888)}, {'GooglePlaceID': 'ChIJbd_WExZawokRbBhzy1Hc4Ms', 'Coordinates': (40.705129, -74.007936)}, {'GooglePlaceID': 'ChIJuydjIhZawokRG1-vnBMShEw', 'Coordinates': (40.705562, -74.007189)}, {'GooglePlaceID': 'ChIJ7UBKbh9awokRsLNXAfxLoHs', 'Coordinates': (40.715947, -74.007367)}, {'GooglePlaceID': 'ChIJ7xcL8z1awokRPFmLkB9tXHc', 'Coordinates': (40.705063, -74.006177)}, {'GooglePlaceID': 'ChIJ3blcJRRawokRex4mbeb9Ix4', 'Coordinates': (40.704129, -74.010336)}, {'GooglePlaceID': 'ChIJl4BZ5opZwokRUR0n7MrTIEA', 'Coordinates': (40.715534, -74.012052)}, {'GooglePlaceID': 'ChIJodiAGRZawokRHXCBqdWXV54', 'Coordinates': (40.706877, -74.011265)}, {'GooglePlaceID': 'ChIJ3a-_JdJQwokR2SXNohPwSQI', 'Coordinates': (40.717755, -74.043143)}]\n"
     ]
    }
   ],
   "source": [
    "geoJsonNyc1 = {\"GooglePlaceID\": \"ChIJs--MqP1YwokRBwAhjXWIHn8\", \"Coordinates\": (40.712772, -74.006058)}\n",
    "geoJsonNyc2 = {\"GooglePlaceID\": \"ChIJOwg_06VPwokRYv534QaPC8g\", \"Coordinates\": (40.712775, -74.005973)}\n",
    "geoJsonNyc3 = {\"GooglePlaceID\": \"ChIJ9TRDoBBawokR5gdcflPqvjE\", \"Coordinates\": (40.709504, -74.014671)}\n",
    "geoJsonNyc4 = {\"GooglePlaceID\": \"ChIJlYpIkBBawokRjyd8kYQpUrc\", \"Coordinates\": (40.709137, -74.013651)}\n",
    "geoJsonNyc5 = {\"GooglePlaceID\": \"ChIJUXPOvRBawokR2iT8sI7Mq3U\", \"Coordinates\": (40.709137, -74.013651)}\n",
    "geoJsonNyc6 = {\"GooglePlaceID\": \"ChIJh-L3uxlawokRDwLmkKwLIvY\", \"Coordinates\": (40.711114, -74.010333)}\n",
    "geoJsonNyc7 = {\"GooglePlaceID\": \"ChIJPTJohhdawokR5-M2cwZ2WDo\", \"Coordinates\": (40.708977, -74.009123)}\n",
    "geoJsonNyc8 = {\"GooglePlaceID\": \"ChIJ-8HrdxtawokREfw5AkGs_Os\", \"Coordinates\": (40.715036, -74.015840)}\n",
    "geoJsonNyc9 = {\"GooglePlaceID\": \"ChIJ-ziaVBZawokRj7B7C4qAWPY\", \"Coordinates\": (40.706762, -74.008945)}\n",
    "geoJsonNyc10 = {\"GooglePlaceID\": \"ChIJNfKP5xdawokRyCFSWap_ogE\", \"Coordinates\": (40.707920, -74.007214)}\n",
    "geoJsonNyc11 = {\"GooglePlaceID\": \"ChIJ_7B6nRZawokRRg3UBR5XohI\", \"Coordinates\": (40.704642, -74.010322)}\n",
    "geoJsonNyc12 = {\"GooglePlaceID\": \"ChIJ0fci9hNawokRJVR9hdTAt80\", \"Coordinates\": (40.703950, -74.012354)}\n",
    "geoJsonNyc13 = {\"GooglePlaceID\": \"ChIJ9TRDoBBawokRJgmlJa_UJ0E\", \"Coordinates\": (40.709797, -74.013888)}\n",
    "geoJsonNyc14 = {\"GooglePlaceID\": \"ChIJbd_WExZawokRbBhzy1Hc4Ms\", \"Coordinates\": (40.705129, -74.007936)}\n",
    "geoJsonNyc15 = {\"GooglePlaceID\": \"ChIJuydjIhZawokRG1-vnBMShEw\", \"Coordinates\": (40.705562, -74.007189)}\n",
    "geoJsonNyc16 = {\"GooglePlaceID\": \"ChIJ7UBKbh9awokRsLNXAfxLoHs\", \"Coordinates\": (40.715947, -74.007367)}\n",
    "geoJsonNyc17 = {\"GooglePlaceID\": \"ChIJ7xcL8z1awokRPFmLkB9tXHc\", \"Coordinates\": (40.705063, -74.006177)}\n",
    "geoJsonNyc18 = {\"GooglePlaceID\": \"ChIJ3blcJRRawokRex4mbeb9Ix4\", \"Coordinates\": (40.704129, -74.010336)}\n",
    "geoJsonNyc19 = {\"GooglePlaceID\": \"ChIJl4BZ5opZwokRUR0n7MrTIEA\", \"Coordinates\": (40.715534, -74.012052)}\n",
    "geoJsonNyc20 = {\"GooglePlaceID\": \"ChIJodiAGRZawokRHXCBqdWXV54\", \"Coordinates\": (40.706877, -74.011265)}\n",
    "geoJsonNyc21 = {\"GooglePlaceID\": \"ChIJ3a-_JdJQwokR2SXNohPwSQI\", \"Coordinates\": (40.717755, -74.043143)}\n",
    "\n",
    "\n",
    "geoJsonList = []\n",
    "geoJsonList.append(geoJsonNyc1)\n",
    "geoJsonList.append(geoJsonNyc2)\n",
    "geoJsonList.append(geoJsonNyc3)\n",
    "geoJsonList.append(geoJsonNyc4)\n",
    "geoJsonList.append(geoJsonNyc5)\n",
    "geoJsonList.append(geoJsonNyc6)\n",
    "geoJsonList.append(geoJsonNyc7)\n",
    "geoJsonList.append(geoJsonNyc8)\n",
    "geoJsonList.append(geoJsonNyc9)\n",
    "geoJsonList.append(geoJsonNyc10)\n",
    "geoJsonList.append(geoJsonNyc11)\n",
    "geoJsonList.append(geoJsonNyc12)\n",
    "geoJsonList.append(geoJsonNyc13)\n",
    "geoJsonList.append(geoJsonNyc14)\n",
    "geoJsonList.append(geoJsonNyc15)\n",
    "geoJsonList.append(geoJsonNyc16)\n",
    "geoJsonList.append(geoJsonNyc17)\n",
    "geoJsonList.append(geoJsonNyc18)\n",
    "geoJsonList.append(geoJsonNyc19)\n",
    "geoJsonList.append(geoJsonNyc20)\n",
    "geoJsonList.append(geoJsonNyc21)\n",
    "print(geoJsonList)\n",
    "\n",
    "\n"
   ]
  },
  {
   "cell_type": "code",
   "execution_count": 1572,
   "metadata": {
    "colab": {
     "base_uri": "https://localhost:8080/",
     "height": 254
    },
    "colab_type": "code",
    "executionInfo": {
     "elapsed": 612,
     "status": "error",
     "timestamp": 1587959477606,
     "user": {
      "displayName": "Ajmain Naqib",
      "photoUrl": "https://lh3.googleusercontent.com/a-/AOh14GhhKSJySy-7u5m7AnlSmnYnKEEc1nb-WOMxCz2eLXg=s64",
      "userId": "11591356358542650398"
     },
     "user_tz": 300
    },
    "id": "m9CavlLXvJPL",
    "outputId": "d80bf7f1-9378-4c53-f51e-676738c5cf2b"
   },
   "outputs": [
    {
     "name": "stdout",
     "output_type": "stream",
     "text": [
      "686420072\n"
     ]
    }
   ],
   "source": [
    "def randomizeCondition() :\n",
    "    num = random.randint(0, 2)\n",
    "    if (num == 0) :\n",
    "        return \"Recovered/NoCovid19\"\n",
    "    if (num == 1) :\n",
    "        return \"PotentialCovid19\"\n",
    "    if (num == 2) :\n",
    "        return \"HasCovid19\"\n",
    "status = randomizeCondition()\n",
    "\n",
    "def randomizeVisitID() :\n",
    "    \n",
    "    return random.randint(0, 999999999)\n",
    "\n",
    "visit_id = randomizeVisitID()\n",
    "print(visit_id)\n",
    "\n",
    "customListVisitDictionary = [{str(geoJsonNycHall[\"Coordinates\"]):[randomizeVisitID(), datetime.__str__(datetime(2020, 3, 13)), randomizeCondition()]},\n",
    "                            {str(geoJsonNycHall[\"Coordinates\"]):[randomizeVisitID(), datetime.__str__(datetime(2020, 3, 13)), randomizeCondition()]},\n",
    "                            {str(geoJsonNycHall[\"Coordinates\"]):[randomizeVisitID(), datetime.__str__(datetime(2020, 3, 13)), randomizeCondition()]},\n",
    "                            {str(geoJsonNycHall[\"Coordinates\"]):[randomizeVisitID(), datetime.__str__(datetime(2020, 3, 13)), randomizeCondition()]},\n",
    "                            {str(geoJsonNycHall[\"Coordinates\"]):[randomizeVisitID(), datetime.__str__(datetime(2020, 3, 13)), randomizeCondition()]},\n",
    "                            {str(geoJsonNycHall[\"Coordinates\"]):[randomizeVisitID(), datetime.__str__(datetime(2020, 3, 13)), randomizeCondition()]},\n",
    "                            {str(geoJsonNycHall[\"Coordinates\"]):[randomizeVisitID(), datetime.__str__(datetime(2020, 3, 13)), randomizeCondition()]},\n",
    "                            {str(geoJsonNycHall[\"Coordinates\"]):[randomizeVisitID(), datetime.__str__(datetime(2020, 3, 13)), randomizeCondition()]},\n",
    "                            {str(geoJsonNycHall[\"Coordinates\"]):[randomizeVisitID(), datetime.__str__(datetime(2020, 3, 13)), randomizeCondition()]},\n",
    "                            {str(geoJsonNycHall[\"Coordinates\"]):[randomizeVisitID(), datetime.__str__(datetime(2020, 3, 13)), randomizeCondition()]},\n",
    "                            {str(geoJsonNycHall[\"Coordinates\"]):[randomizeVisitID(), datetime.__str__(datetime(2020, 3, 13)), randomizeCondition()]},\n",
    "                            {str(geoJsonNycHall[\"Coordinates\"]):[randomizeVisitID(), datetime.__str__(datetime(2020, 3, 13)), randomizeCondition()]},\n",
    "                            {str(geoJsonNycHall[\"Coordinates\"]):[randomizeVisitID(), datetime.__str__(datetime(2020, 3, 13)), randomizeCondition()]},\n",
    "                            {str(geoJsonNycHall[\"Coordinates\"]):[randomizeVisitID(), datetime.__str__(datetime(2020, 3, 13)), randomizeCondition()]},\n",
    "                            {str(geoJsonNycHall[\"Coordinates\"]):[randomizeVisitID(), datetime.__str__(datetime(2020, 3, 13)), randomizeCondition()]},\n",
    "                            {str(geoJsonNycHall[\"Coordinates\"]):[randomizeVisitID(), datetime.__str__(datetime(2020, 3, 13)), randomizeCondition()]},\n",
    "                            {str(geoJsonNycHall[\"Coordinates\"]):[randomizeVisitID(), datetime.__str__(datetime(2020, 3, 13)), randomizeCondition()]},\n",
    "                            {str(geoJsonNycHall[\"Coordinates\"]):[randomizeVisitID(), datetime.__str__(datetime(2020, 3, 13)), randomizeCondition()]},]\n",
    "\n",
    "\n",
    "def initListVisitDictionary(geoJsonList) :\n",
    "    visitListDictionary = []\n",
    "    for i in range(21):\n",
    "        visitListDictionary.append({str(geoJsonList[i][\"Coordinates\"]):[randomizeVisitID(), datetime.__str__(datetime(2020, 3, 13)), randomizeCondition()]})     \n",
    "    return visitListDictionary\n",
    "\n",
    "ListVisitDictionary = initListVisitDictionary(geoJsonList)\n",
    "\n",
    "\n",
    "def randomizeTransactionID() :\n",
    "    return random.randint(0, 32800000)\n",
    "\n",
    "def randomizeContributionID() :\n",
    "    return random.randint(0, 32800000)\n",
    "\n",
    "def init_ListJsonDocument(ListVisitDictionary, geoJsonList):\n",
    "    ListJsonDocument = []\n",
    "    for i in range(len(geoJsonList)):\n",
    "        jsonDocument = {\n",
    "            \"TransactionID\" : randomizeTransactionID(),\n",
    "            \"ContributorID\" : randomizeContributionID(),\n",
    "            \"GeoLocation\": geoJsonList[i],\n",
    "            \"VisitDictionary\": ListVisitDictionary[i]     \n",
    "        }\n",
    "        type(jsonDocument)\n",
    "        ListJsonDocument.append(jsonDocument)\n",
    "    return ListJsonDocument\n",
    "\n"
   ]
  },
  {
   "cell_type": "code",
   "execution_count": 1573,
   "metadata": {},
   "outputs": [
    {
     "name": "stdout",
     "output_type": "stream",
     "text": [
      "[{'(40.712772, -74.006058)': [642405400, '2020-03-13 00:00:00', 'Recovered/NoCovid19']}, {'(40.712775, -74.005973)': [380612960, '2020-03-13 00:00:00', 'Recovered/NoCovid19']}, {'(40.709504, -74.014671)': [966611763, '2020-03-13 00:00:00', 'HasCovid19']}, {'(40.709137, -74.013651)': [849164076, '2020-03-13 00:00:00', 'Recovered/NoCovid19']}, {'(40.709137, -74.013651)': [247750111, '2020-03-13 00:00:00', 'PotentialCovid19']}, {'(40.711114, -74.010333)': [179298274, '2020-03-13 00:00:00', 'HasCovid19']}, {'(40.708977, -74.009123)': [777359634, '2020-03-13 00:00:00', 'HasCovid19']}, {'(40.715036, -74.01584)': [26843641, '2020-03-13 00:00:00', 'Recovered/NoCovid19']}, {'(40.706762, -74.008945)': [104154497, '2020-03-13 00:00:00', 'Recovered/NoCovid19']}, {'(40.70792, -74.007214)': [649770180, '2020-03-13 00:00:00', 'PotentialCovid19']}, {'(40.704642, -74.010322)': [375349515, '2020-03-13 00:00:00', 'PotentialCovid19']}, {'(40.70395, -74.012354)': [606714740, '2020-03-13 00:00:00', 'HasCovid19']}, {'(40.709797, -74.013888)': [70722435, '2020-03-13 00:00:00', 'HasCovid19']}, {'(40.705129, -74.007936)': [740481791, '2020-03-13 00:00:00', 'PotentialCovid19']}, {'(40.705562, -74.007189)': [369173676, '2020-03-13 00:00:00', 'Recovered/NoCovid19']}, {'(40.715947, -74.007367)': [591026829, '2020-03-13 00:00:00', 'Recovered/NoCovid19']}, {'(40.705063, -74.006177)': [857935714, '2020-03-13 00:00:00', 'PotentialCovid19']}, {'(40.704129, -74.010336)': [935497824, '2020-03-13 00:00:00', 'Recovered/NoCovid19']}, {'(40.715534, -74.012052)': [502883123, '2020-03-13 00:00:00', 'HasCovid19']}, {'(40.706877, -74.011265)': [895716222, '2020-03-13 00:00:00', 'Recovered/NoCovid19']}, {'(40.717755, -74.043143)': [845427646, '2020-03-13 00:00:00', 'HasCovid19']}]\n"
     ]
    }
   ],
   "source": [
    "print(ListVisitDictionary)"
   ]
  },
  {
   "cell_type": "code",
   "execution_count": 1574,
   "metadata": {
    "colab": {
     "base_uri": "https://localhost:8080/",
     "height": 184
    },
    "colab_type": "code",
    "executionInfo": {
     "elapsed": 1067,
     "status": "error",
     "timestamp": 1587959455390,
     "user": {
      "displayName": "Ajmain Naqib",
      "photoUrl": "https://lh3.googleusercontent.com/a-/AOh14GhhKSJySy-7u5m7AnlSmnYnKEEc1nb-WOMxCz2eLXg=s64",
      "userId": "11591356358542650398"
     },
     "user_tz": 300
    },
    "id": "8pG3jbsHvUJX",
    "outputId": "af0e8e0e-340e-4654-dadc-24a7b2b43cb7"
   },
   "outputs": [
    {
     "name": "stdout",
     "output_type": "stream",
     "text": [
      "[{'TransactionID': 25973918, 'ContributorID': 18617271, 'GeoLocation': {'GooglePlaceID': 'ChIJs--MqP1YwokRBwAhjXWIHn8', 'Coordinates': (40.712772, -74.006058)}, 'VisitDictionary': {'(40.712772, -74.006058)': [642405400, '2020-03-13 00:00:00', 'Recovered/NoCovid19']}}, {'TransactionID': 20852966, 'ContributorID': 21567071, 'GeoLocation': {'GooglePlaceID': 'ChIJOwg_06VPwokRYv534QaPC8g', 'Coordinates': (40.712775, -74.005973)}, 'VisitDictionary': {'(40.712775, -74.005973)': [380612960, '2020-03-13 00:00:00', 'Recovered/NoCovid19']}}, {'TransactionID': 20640923, 'ContributorID': 24670737, 'GeoLocation': {'GooglePlaceID': 'ChIJ9TRDoBBawokR5gdcflPqvjE', 'Coordinates': (40.709504, -74.014671)}, 'VisitDictionary': {'(40.709504, -74.014671)': [966611763, '2020-03-13 00:00:00', 'HasCovid19']}}, {'TransactionID': 23330100, 'ContributorID': 22912837, 'GeoLocation': {'GooglePlaceID': 'ChIJlYpIkBBawokRjyd8kYQpUrc', 'Coordinates': (40.709137, -74.013651)}, 'VisitDictionary': {'(40.709137, -74.013651)': [849164076, '2020-03-13 00:00:00', 'Recovered/NoCovid19']}}, {'TransactionID': 14822102, 'ContributorID': 26448495, 'GeoLocation': {'GooglePlaceID': 'ChIJUXPOvRBawokR2iT8sI7Mq3U', 'Coordinates': (40.709137, -74.013651)}, 'VisitDictionary': {'(40.709137, -74.013651)': [247750111, '2020-03-13 00:00:00', 'PotentialCovid19']}}, {'TransactionID': 12159780, 'ContributorID': 19842883, 'GeoLocation': {'GooglePlaceID': 'ChIJh-L3uxlawokRDwLmkKwLIvY', 'Coordinates': (40.711114, -74.010333)}, 'VisitDictionary': {'(40.711114, -74.010333)': [179298274, '2020-03-13 00:00:00', 'HasCovid19']}}, {'TransactionID': 6424068, 'ContributorID': 11907734, 'GeoLocation': {'GooglePlaceID': 'ChIJPTJohhdawokR5-M2cwZ2WDo', 'Coordinates': (40.708977, -74.009123)}, 'VisitDictionary': {'(40.708977, -74.009123)': [777359634, '2020-03-13 00:00:00', 'HasCovid19']}}, {'TransactionID': 30657418, 'ContributorID': 27895868, 'GeoLocation': {'GooglePlaceID': 'ChIJ-8HrdxtawokREfw5AkGs_Os', 'Coordinates': (40.715036, -74.01584)}, 'VisitDictionary': {'(40.715036, -74.01584)': [26843641, '2020-03-13 00:00:00', 'Recovered/NoCovid19']}}, {'TransactionID': 16577803, 'ContributorID': 23252335, 'GeoLocation': {'GooglePlaceID': 'ChIJ-ziaVBZawokRj7B7C4qAWPY', 'Coordinates': (40.706762, -74.008945)}, 'VisitDictionary': {'(40.706762, -74.008945)': [104154497, '2020-03-13 00:00:00', 'Recovered/NoCovid19']}}, {'TransactionID': 25495715, 'ContributorID': 19353580, 'GeoLocation': {'GooglePlaceID': 'ChIJNfKP5xdawokRyCFSWap_ogE', 'Coordinates': (40.70792, -74.007214)}, 'VisitDictionary': {'(40.70792, -74.007214)': [649770180, '2020-03-13 00:00:00', 'PotentialCovid19']}}, {'TransactionID': 25836799, 'ContributorID': 4418726, 'GeoLocation': {'GooglePlaceID': 'ChIJ_7B6nRZawokRRg3UBR5XohI', 'Coordinates': (40.704642, -74.010322)}, 'VisitDictionary': {'(40.704642, -74.010322)': [375349515, '2020-03-13 00:00:00', 'PotentialCovid19']}}, {'TransactionID': 29369046, 'ContributorID': 11420789, 'GeoLocation': {'GooglePlaceID': 'ChIJ0fci9hNawokRJVR9hdTAt80', 'Coordinates': (40.70395, -74.012354)}, 'VisitDictionary': {'(40.70395, -74.012354)': [606714740, '2020-03-13 00:00:00', 'HasCovid19']}}, {'TransactionID': 28629300, 'ContributorID': 25772708, 'GeoLocation': {'GooglePlaceID': 'ChIJ9TRDoBBawokRJgmlJa_UJ0E', 'Coordinates': (40.709797, -74.013888)}, 'VisitDictionary': {'(40.709797, -74.013888)': [70722435, '2020-03-13 00:00:00', 'HasCovid19']}}, {'TransactionID': 9767672, 'ContributorID': 15085329, 'GeoLocation': {'GooglePlaceID': 'ChIJbd_WExZawokRbBhzy1Hc4Ms', 'Coordinates': (40.705129, -74.007936)}, 'VisitDictionary': {'(40.705129, -74.007936)': [740481791, '2020-03-13 00:00:00', 'PotentialCovid19']}}, {'TransactionID': 15947848, 'ContributorID': 14538737, 'GeoLocation': {'GooglePlaceID': 'ChIJuydjIhZawokRG1-vnBMShEw', 'Coordinates': (40.705562, -74.007189)}, 'VisitDictionary': {'(40.705562, -74.007189)': [369173676, '2020-03-13 00:00:00', 'Recovered/NoCovid19']}}, {'TransactionID': 22591954, 'ContributorID': 24022521, 'GeoLocation': {'GooglePlaceID': 'ChIJ7UBKbh9awokRsLNXAfxLoHs', 'Coordinates': (40.715947, -74.007367)}, 'VisitDictionary': {'(40.715947, -74.007367)': [591026829, '2020-03-13 00:00:00', 'Recovered/NoCovid19']}}, {'TransactionID': 12010437, 'ContributorID': 13956403, 'GeoLocation': {'GooglePlaceID': 'ChIJ7xcL8z1awokRPFmLkB9tXHc', 'Coordinates': (40.705063, -74.006177)}, 'VisitDictionary': {'(40.705063, -74.006177)': [857935714, '2020-03-13 00:00:00', 'PotentialCovid19']}}, {'TransactionID': 10792342, 'ContributorID': 7005154, 'GeoLocation': {'GooglePlaceID': 'ChIJ3blcJRRawokRex4mbeb9Ix4', 'Coordinates': (40.704129, -74.010336)}, 'VisitDictionary': {'(40.704129, -74.010336)': [935497824, '2020-03-13 00:00:00', 'Recovered/NoCovid19']}}, {'TransactionID': 16476219, 'ContributorID': 31576132, 'GeoLocation': {'GooglePlaceID': 'ChIJl4BZ5opZwokRUR0n7MrTIEA', 'Coordinates': (40.715534, -74.012052)}, 'VisitDictionary': {'(40.715534, -74.012052)': [502883123, '2020-03-13 00:00:00', 'HasCovid19']}}, {'TransactionID': 21422403, 'ContributorID': 10748174, 'GeoLocation': {'GooglePlaceID': 'ChIJodiAGRZawokRHXCBqdWXV54', 'Coordinates': (40.706877, -74.011265)}, 'VisitDictionary': {'(40.706877, -74.011265)': [895716222, '2020-03-13 00:00:00', 'Recovered/NoCovid19']}}, {'TransactionID': 4787193, 'ContributorID': 30260104, 'GeoLocation': {'GooglePlaceID': 'ChIJ3a-_JdJQwokR2SXNohPwSQI', 'Coordinates': (40.717755, -74.043143)}, 'VisitDictionary': {'(40.717755, -74.043143)': [845427646, '2020-03-13 00:00:00', 'HasCovid19']}}]\n"
     ]
    }
   ],
   "source": [
    "ListJsonDocument = init_ListJsonDocument(ListVisitDictionary, geoJsonList)\n",
    "print(ListJsonDocument)\n"
   ]
  },
  {
   "cell_type": "code",
   "execution_count": 1575,
   "metadata": {
    "colab": {},
    "colab_type": "code",
    "id": "WNcWxBvSvaBV"
   },
   "outputs": [],
   "source": [
    "def initListIBMDataBaseDocument(ListJsonDocument) :\n",
    "    ListIBMDataBaseDocument = []\n",
    "    for i in ListJsonDocument:\n",
    "        newDocument = mainDatabase.create_document(i)\n",
    "        ListIBMDataBaseDocument.append(newDocument)\n",
    "    return ListIBMDataBaseDocument\n",
    "ListIBMDataBaseDocument = initListIBMDataBaseDocument(ListJsonDocument)"
   ]
  },
  {
   "cell_type": "code",
   "execution_count": 1576,
   "metadata": {},
   "outputs": [
    {
     "name": "stdout",
     "output_type": "stream",
     "text": [
      "[{'TransactionID': 25973918, 'ContributorID': 18617271, 'GeoLocation': {'GooglePlaceID': 'ChIJs--MqP1YwokRBwAhjXWIHn8', 'Coordinates': (40.712772, -74.006058)}, 'VisitDictionary': {'(40.712772, -74.006058)': [642405400, '2020-03-13 00:00:00', 'Recovered/NoCovid19']}, '_id': 'ea26d825def665b3b5749bd7f7c3216e', '_rev': '1-988c6ca689aceb876b5bf8b82035bae0'}, {'TransactionID': 20852966, 'ContributorID': 21567071, 'GeoLocation': {'GooglePlaceID': 'ChIJOwg_06VPwokRYv534QaPC8g', 'Coordinates': (40.712775, -74.005973)}, 'VisitDictionary': {'(40.712775, -74.005973)': [380612960, '2020-03-13 00:00:00', 'Recovered/NoCovid19']}, '_id': '04af3388a9fba22213feda785cec76d7', '_rev': '1-db593cd44020cff802c5b57c678624cd'}, {'TransactionID': 20640923, 'ContributorID': 24670737, 'GeoLocation': {'GooglePlaceID': 'ChIJ9TRDoBBawokR5gdcflPqvjE', 'Coordinates': (40.709504, -74.014671)}, 'VisitDictionary': {'(40.709504, -74.014671)': [966611763, '2020-03-13 00:00:00', 'HasCovid19']}, '_id': 'f6eaae051748a00c8b4028a2a5001ae2', '_rev': '1-fea94b21687676a33062efe40ab844a6'}, {'TransactionID': 23330100, 'ContributorID': 22912837, 'GeoLocation': {'GooglePlaceID': 'ChIJlYpIkBBawokRjyd8kYQpUrc', 'Coordinates': (40.709137, -74.013651)}, 'VisitDictionary': {'(40.709137, -74.013651)': [849164076, '2020-03-13 00:00:00', 'Recovered/NoCovid19']}, '_id': 'e443da5e2c9f7526f1a4b7d5602a0847', '_rev': '1-23d6ce3f914c649e6c4372b06b363313'}, {'TransactionID': 14822102, 'ContributorID': 26448495, 'GeoLocation': {'GooglePlaceID': 'ChIJUXPOvRBawokR2iT8sI7Mq3U', 'Coordinates': (40.709137, -74.013651)}, 'VisitDictionary': {'(40.709137, -74.013651)': [247750111, '2020-03-13 00:00:00', 'PotentialCovid19']}, '_id': '04af3388a9fba22213feda785cec8286', '_rev': '1-30844a8091ad395a4bc4b4c1b6fc3148'}, {'TransactionID': 12159780, 'ContributorID': 19842883, 'GeoLocation': {'GooglePlaceID': 'ChIJh-L3uxlawokRDwLmkKwLIvY', 'Coordinates': (40.711114, -74.010333)}, 'VisitDictionary': {'(40.711114, -74.010333)': [179298274, '2020-03-13 00:00:00', 'HasCovid19']}, '_id': 'f6eaae051748a00c8b4028a2a5001b46', '_rev': '1-494fba7fa2bcddd59b12821c824aa410'}, {'TransactionID': 6424068, 'ContributorID': 11907734, 'GeoLocation': {'GooglePlaceID': 'ChIJPTJohhdawokR5-M2cwZ2WDo', 'Coordinates': (40.708977, -74.009123)}, 'VisitDictionary': {'(40.708977, -74.009123)': [777359634, '2020-03-13 00:00:00', 'HasCovid19']}, '_id': 'f13d03db8a9121b46bc6ae7c50eb4b00', '_rev': '1-2d6ccad935a8bfb600ac23bb60993496'}, {'TransactionID': 30657418, 'ContributorID': 27895868, 'GeoLocation': {'GooglePlaceID': 'ChIJ-8HrdxtawokREfw5AkGs_Os', 'Coordinates': (40.715036, -74.01584)}, 'VisitDictionary': {'(40.715036, -74.01584)': [26843641, '2020-03-13 00:00:00', 'Recovered/NoCovid19']}, '_id': 'd78ce1ecfcc5713b4fd2a05bdc5150aa', '_rev': '1-e7611ee92c5ec01e2c7cf23d2de3b6ab'}, {'TransactionID': 16577803, 'ContributorID': 23252335, 'GeoLocation': {'GooglePlaceID': 'ChIJ-ziaVBZawokRj7B7C4qAWPY', 'Coordinates': (40.706762, -74.008945)}, 'VisitDictionary': {'(40.706762, -74.008945)': [104154497, '2020-03-13 00:00:00', 'Recovered/NoCovid19']}, '_id': 'e2d73b5175a484147c554779f9ca5bb2', '_rev': '1-1034566c47070c8d14cafcb0fb90f9b8'}, {'TransactionID': 25495715, 'ContributorID': 19353580, 'GeoLocation': {'GooglePlaceID': 'ChIJNfKP5xdawokRyCFSWap_ogE', 'Coordinates': (40.70792, -74.007214)}, 'VisitDictionary': {'(40.70792, -74.007214)': [649770180, '2020-03-13 00:00:00', 'PotentialCovid19']}, '_id': 'f6eaae051748a00c8b4028a2a5001ff2', '_rev': '1-f9b6204b9693b919875caf5a6576d37a'}, {'TransactionID': 25836799, 'ContributorID': 4418726, 'GeoLocation': {'GooglePlaceID': 'ChIJ_7B6nRZawokRRg3UBR5XohI', 'Coordinates': (40.704642, -74.010322)}, 'VisitDictionary': {'(40.704642, -74.010322)': [375349515, '2020-03-13 00:00:00', 'PotentialCovid19']}, '_id': '3a26cf9200d5486836a46415d12d23a0', '_rev': '1-0f40e4e10615e013657d7fc3d9f5aa9d'}, {'TransactionID': 29369046, 'ContributorID': 11420789, 'GeoLocation': {'GooglePlaceID': 'ChIJ0fci9hNawokRJVR9hdTAt80', 'Coordinates': (40.70395, -74.012354)}, 'VisitDictionary': {'(40.70395, -74.012354)': [606714740, '2020-03-13 00:00:00', 'HasCovid19']}, '_id': 'ea26d825def665b3b5749bd7f7c32b7c', '_rev': '1-dea4f14100a3a14ed74436f8ec250958'}, {'TransactionID': 28629300, 'ContributorID': 25772708, 'GeoLocation': {'GooglePlaceID': 'ChIJ9TRDoBBawokRJgmlJa_UJ0E', 'Coordinates': (40.709797, -74.013888)}, 'VisitDictionary': {'(40.709797, -74.013888)': [70722435, '2020-03-13 00:00:00', 'HasCovid19']}, '_id': 'd78ce1ecfcc5713b4fd2a05bdc516023', '_rev': '1-68cfa9164de8512893ef7ebe4415d211'}, {'TransactionID': 9767672, 'ContributorID': 15085329, 'GeoLocation': {'GooglePlaceID': 'ChIJbd_WExZawokRbBhzy1Hc4Ms', 'Coordinates': (40.705129, -74.007936)}, 'VisitDictionary': {'(40.705129, -74.007936)': [740481791, '2020-03-13 00:00:00', 'PotentialCovid19']}, '_id': '04af3388a9fba22213feda785ced128d', '_rev': '1-8e4b10b1c3521b8996ac166d12b95d27'}, {'TransactionID': 15947848, 'ContributorID': 14538737, 'GeoLocation': {'GooglePlaceID': 'ChIJuydjIhZawokRG1-vnBMShEw', 'Coordinates': (40.705562, -74.007189)}, 'VisitDictionary': {'(40.705562, -74.007189)': [369173676, '2020-03-13 00:00:00', 'Recovered/NoCovid19']}, '_id': 'e2d73b5175a484147c554779f9cc93ca', '_rev': '1-406f049d7e6d6b237b29586cf6d3e2a1'}, {'TransactionID': 22591954, 'ContributorID': 24022521, 'GeoLocation': {'GooglePlaceID': 'ChIJ7UBKbh9awokRsLNXAfxLoHs', 'Coordinates': (40.715947, -74.007367)}, 'VisitDictionary': {'(40.715947, -74.007367)': [591026829, '2020-03-13 00:00:00', 'Recovered/NoCovid19']}, '_id': 'e443da5e2c9f7526f1a4b7d5602a1361', '_rev': '1-a26a042d96dd9c79f676b32c0e3ca377'}, {'TransactionID': 12010437, 'ContributorID': 13956403, 'GeoLocation': {'GooglePlaceID': 'ChIJ7xcL8z1awokRPFmLkB9tXHc', 'Coordinates': (40.705063, -74.006177)}, 'VisitDictionary': {'(40.705063, -74.006177)': [857935714, '2020-03-13 00:00:00', 'PotentialCovid19']}, '_id': '71b88fe4c8127ff6682afc3ab98577b6', '_rev': '1-a8d04a58e49f1dc79b02d0dce0d35857'}, {'TransactionID': 10792342, 'ContributorID': 7005154, 'GeoLocation': {'GooglePlaceID': 'ChIJ3blcJRRawokRex4mbeb9Ix4', 'Coordinates': (40.704129, -74.010336)}, 'VisitDictionary': {'(40.704129, -74.010336)': [935497824, '2020-03-13 00:00:00', 'Recovered/NoCovid19']}, '_id': 'b3b11be224a828beb4714f9a4b7e2d06', '_rev': '1-0303451d6a6bfa32850610e9051f1d01'}, {'TransactionID': 16476219, 'ContributorID': 31576132, 'GeoLocation': {'GooglePlaceID': 'ChIJl4BZ5opZwokRUR0n7MrTIEA', 'Coordinates': (40.715534, -74.012052)}, 'VisitDictionary': {'(40.715534, -74.012052)': [502883123, '2020-03-13 00:00:00', 'HasCovid19']}, '_id': 'f13d03db8a9121b46bc6ae7c50ed1f57', '_rev': '1-c564eb238b22ae5bd0793f3a7c7e2dee'}, {'TransactionID': 21422403, 'ContributorID': 10748174, 'GeoLocation': {'GooglePlaceID': 'ChIJodiAGRZawokRHXCBqdWXV54', 'Coordinates': (40.706877, -74.011265)}, 'VisitDictionary': {'(40.706877, -74.011265)': [895716222, '2020-03-13 00:00:00', 'Recovered/NoCovid19']}, '_id': 'ea26d825def665b3b5749bd7f7c336d4', '_rev': '1-32aef18771f3e77f88a956c5396870d1'}, {'TransactionID': 4787193, 'ContributorID': 30260104, 'GeoLocation': {'GooglePlaceID': 'ChIJ3a-_JdJQwokR2SXNohPwSQI', 'Coordinates': (40.717755, -74.043143)}, 'VisitDictionary': {'(40.717755, -74.043143)': [845427646, '2020-03-13 00:00:00', 'HasCovid19']}, '_id': 'e443da5e2c9f7526f1a4b7d5602a190f', '_rev': '1-2b095eb5a8630ef9b47f12ba2307213a'}]\n"
     ]
    }
   ],
   "source": [
    "print(ListIBMDataBaseDocument)"
   ]
  },
  {
   "cell_type": "code",
   "execution_count": null,
   "metadata": {
    "colab": {},
    "colab_type": "code",
    "id": "mioIGgANvgkU"
   },
   "outputs": [],
   "source": []
  },
  {
   "cell_type": "code",
   "execution_count": 1577,
   "metadata": {
    "colab": {},
    "colab_type": "code",
    "id": "s_9b31r4vkx2"
   },
   "outputs": [
    {
     "name": "stdout",
     "output_type": "stream",
     "text": [
      "{'(40.712772, -74.006058)': [642405400, '2020-03-13 00:00:00', 'Recovered/NoCovid19']}\n",
      "{'(40.712775, -74.005973)': [380612960, '2020-03-13 00:00:00', 'Recovered/NoCovid19']}\n",
      "{'(40.709504, -74.014671)': [966611763, '2020-03-13 00:00:00', 'HasCovid19']}\n",
      "{'(40.709137, -74.013651)': [849164076, '2020-03-13 00:00:00', 'Recovered/NoCovid19']}\n",
      "{'(40.709137, -74.013651)': [247750111, '2020-03-13 00:00:00', 'PotentialCovid19']}\n",
      "{'(40.711114, -74.010333)': [179298274, '2020-03-13 00:00:00', 'HasCovid19']}\n",
      "{'(40.708977, -74.009123)': [777359634, '2020-03-13 00:00:00', 'HasCovid19']}\n",
      "{'(40.715036, -74.01584)': [26843641, '2020-03-13 00:00:00', 'Recovered/NoCovid19']}\n",
      "{'(40.706762, -74.008945)': [104154497, '2020-03-13 00:00:00', 'Recovered/NoCovid19']}\n",
      "{'(40.70792, -74.007214)': [649770180, '2020-03-13 00:00:00', 'PotentialCovid19']}\n",
      "{'(40.704642, -74.010322)': [375349515, '2020-03-13 00:00:00', 'PotentialCovid19']}\n",
      "{'(40.70395, -74.012354)': [606714740, '2020-03-13 00:00:00', 'HasCovid19']}\n",
      "{'(40.709797, -74.013888)': [70722435, '2020-03-13 00:00:00', 'HasCovid19']}\n",
      "{'(40.705129, -74.007936)': [740481791, '2020-03-13 00:00:00', 'PotentialCovid19']}\n",
      "{'(40.705562, -74.007189)': [369173676, '2020-03-13 00:00:00', 'Recovered/NoCovid19']}\n",
      "{'(40.715947, -74.007367)': [591026829, '2020-03-13 00:00:00', 'Recovered/NoCovid19']}\n",
      "{'(40.705063, -74.006177)': [857935714, '2020-03-13 00:00:00', 'PotentialCovid19']}\n",
      "{'(40.704129, -74.010336)': [935497824, '2020-03-13 00:00:00', 'Recovered/NoCovid19']}\n",
      "{'(40.715534, -74.012052)': [502883123, '2020-03-13 00:00:00', 'HasCovid19']}\n",
      "{'(40.706877, -74.011265)': [895716222, '2020-03-13 00:00:00', 'Recovered/NoCovid19']}\n",
      "{'(40.717755, -74.043143)': [845427646, '2020-03-13 00:00:00', 'HasCovid19']}\n",
      "{(40.717755, -74.043143): 1.0}\n"
     ]
    }
   ],
   "source": [
    "def severityOfArea(ListVisitDictionary, geoJsonObject) :\n",
    "    locationSeverityDict = {}\n",
    "    highCount = 0\n",
    "    mediumCount = 0\n",
    "    lowCount = 0\n",
    "    highWeight = 1\n",
    "    mediumWeight = 0.5\n",
    "    lowWeight = 0\n",
    "    weightedSum = 0\n",
    "    for subDict in ListVisitDictionary:\n",
    "        print(subDict)\n",
    "        for key in subDict:\n",
    "            strGeoJsonCoordinates = str(geoJsonObject[\"Coordinates\"])\n",
    "            if (key == strGeoJsonCoordinates):\n",
    "                if (subDict[key][2].lower() == \"HasCovid19\".lower()):\n",
    "                    highCount = highCount + 1\n",
    "                elif (subDict[key][2].lower() == \"PotentialCovid19\".lower()):\n",
    "                    mediumCount = mediumCount + 1\n",
    "                else:\n",
    "                    lowCount = lowCount + 1\n",
    "    weightedSum = ((1 * highCount) + (0.5 * mediumCount) + (lowCount * lowWeight ))\n",
    "    locationSeverityDict[geoJsonObject[\"Coordinates\"]] = weightedSum\n",
    "    return locationSeverityDict\n",
    "\n",
    "LocationSeverityDict = severityOfArea(ListVisitDictionary, geoJsonNyc21)\n",
    "print(LocationSeverityDict)"
   ]
  },
  {
   "cell_type": "code",
   "execution_count": null,
   "metadata": {},
   "outputs": [],
   "source": []
  },
  {
   "cell_type": "code",
   "execution_count": null,
   "metadata": {},
   "outputs": [],
   "source": []
  },
  {
   "cell_type": "code",
   "execution_count": null,
   "metadata": {},
   "outputs": [],
   "source": []
  },
  {
   "cell_type": "code",
   "execution_count": null,
   "metadata": {},
   "outputs": [],
   "source": []
  },
  {
   "cell_type": "code",
   "execution_count": null,
   "metadata": {},
   "outputs": [],
   "source": []
  },
  {
   "cell_type": "code",
   "execution_count": null,
   "metadata": {},
   "outputs": [],
   "source": []
  }
 ],
 "metadata": {
  "colab": {
   "authorship_tag": "ABX9TyM1gUL6kY++cvu8nLMzm68T",
   "name": "ibmCLoubCOVID.ipynb",
   "provenance": []
  },
  "kernelspec": {
   "display_name": "Python 3",
   "language": "python",
   "name": "python3"
  },
  "language_info": {
   "codemirror_mode": {
    "name": "ipython",
    "version": 3
   },
   "file_extension": ".py",
   "mimetype": "text/x-python",
   "name": "python",
   "nbconvert_exporter": "python",
   "pygments_lexer": "ipython3",
   "version": "3.7.3"
  }
 },
 "nbformat": 4,
 "nbformat_minor": 1
}
