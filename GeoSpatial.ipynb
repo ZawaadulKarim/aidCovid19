{
 "cells": [
  {
   "cell_type": "code",
   "execution_count": 1,
   "metadata": {},
   "outputs": [],
   "source": [
    "from cloudant.client import Cloudant\n",
    "from cloudant.error import CloudantException\n",
    "from cloudant.result import Result, ResultByKey\n",
    "from datetime import datetime\n",
    "from collections import defaultdict"
   ]
  },
  {
   "cell_type": "code",
   "execution_count": 2,
   "metadata": {},
   "outputs": [],
   "source": [
    "username = \"8c6b43fe-21d2-4fe1-9a35-f16ed4b5bc8c-bluemix\"\n",
    "password = \"_BZzLTTJK8Bw3D17DM76Em34GLlzW-_3o5RpA9c1oZnR\"\n",
    "client = Cloudant.iam(username, password)\n",
    "client.connect()\n",
    "databaseName = \"maindatabase\"\n",
    "mainDatabase = client.create_database(databaseName)"
   ]
  },
  {
   "cell_type": "code",
   "execution_count": 3,
   "metadata": {},
   "outputs": [],
   "source": [
    "geoJson = {\"type\":\"Feature\", \"geometry\":{\"type\":\"Point\", \"coordinates\":[40.7128, 74.0060]}}"
   ]
  },
  {
   "cell_type": "code",
   "execution_count": 4,
   "metadata": {},
   "outputs": [],
   "source": [
    "contributorID = \"00-1B-63-84-45-E6\""
   ]
  },
  {
   "cell_type": "code",
   "execution_count": 5,
   "metadata": {},
   "outputs": [],
   "source": [
    "googlePlaceID = \"ChIJs--MqP1YwokRBwAhjXWIHn8\"\n",
    "visitID = \"93-EE-8C-CF-F5-BA\""
   ]
  },
  {
   "cell_type": "code",
   "execution_count": 6,
   "metadata": {},
   "outputs": [
    {
     "name": "stdout",
     "output_type": "stream",
     "text": [
      "[10.5, '2020-03-13 00:00:00', 'normal']\n"
     ]
    }
   ],
   "source": [
    "visit_list = [googlePlaceID + visitID ,10.5, datetime.__str__(datetime(2020, 3, 13)), \"normal\"]\n",
    "visit_dictionary = { visit_list[0] : [visit_list[1], visit_list[2], visit_list[3]]\n",
    "}\n",
    "print(visit_dictionary[\"ChIJs--MqP1YwokRBwAhjXWIHn893-EE-8C-CF-F5-BA\"])"
   ]
  },
  {
   "cell_type": "code",
   "execution_count": 7,
   "metadata": {},
   "outputs": [],
   "source": [
    "transactionID = \"AEE879\""
   ]
  },
  {
   "cell_type": "code",
   "execution_count": 9,
   "metadata": {},
   "outputs": [],
   "source": [
    "jsonDocument = {\n",
    "    \"TransactionID\" : transactionID,\n",
    "    \"ContributorID\" : contributorID,\n",
    "    \"GeoLocation\": geoJson,\n",
    "    \"GooglePlaceID\": googlePlaceID,\n",
    "    \"InteractionList\": visit_dictionary\n",
    "}"
   ]
  },
  {
   "cell_type": "code",
   "execution_count": 167,
   "metadata": {},
   "outputs": [],
   "source": [
    "\n",
    "newDocument = mainDatabase.create_document(jsonDocument)"
   ]
  },
  {
   "cell_type": "code",
   "execution_count": null,
   "metadata": {},
   "outputs": [],
   "source": [
    "def googleIDCovid19Dictionary(visit_dict, googleID) :\n",
    "    count = 0\n",
    "    for key in visit_dict:\n",
    "        if visit_dict[key][0] <= 6:\n",
    "            count = count + 1\n",
    "            \n",
    "    \n",
    "    googleIDCovid19Dictionary = {googleID : count}\n",
    "    return googleIDCovid19Dictionary\n",
    "            "
   ]
  },
  {
   "cell_type": "code",
   "execution_count": 169,
   "metadata": {},
   "outputs": [
    {
     "name": "stdout",
     "output_type": "stream",
     "text": [
      "1\n"
     ]
    }
   ],
   "source": [
    "googleIDCovid19Dict = googleIDCovid19Dictionary(visit_dictionary, googlePlaceID)\n",
    "print(googleIDCovid19Dict[\"ChIJs--MqP1YwokRBwAhjXWIHn8\"])"
   ]
  },
  {
   "cell_type": "code",
   "execution_count": 173,
   "metadata": {},
   "outputs": [],
   "source": [
    "def severityOfArea(googleIDCovid19Dict, visit_dictionary, googleID) :\n",
    "    highCount = 0\n",
    "    normalCount = 0\n",
    "    lowCount = 0\n",
    "    googleIDSeverity_dict = {}\n",
    "    for googleIDKey in googleIDCovid19Dict:\n",
    "        if (googleIDKey == googleID) :\n",
    "            for key in visit_dictionary:\n",
    "                \n",
    "                \n",
    "                if (visit_dictionary[key][2].lower() == \"high\"):\n",
    "                    highCount = highCount + 1\n",
    "                elif (visit_dictionary[key][2].lower() == \"normal\") :\n",
    "                    normalCount = normalCount + 1\n",
    "                else :\n",
    "                    lowCount = lowCount + 1\n",
    "                \n",
    "            if (((lowCount)/googleIDCovid19Dict[googleIDKey] > (highCount)/googleIDCovid19Dict[googleIDKey]) and ((lowCount)/googleIDCovid19Dict[googleIDKey] > ((normalCount)/googleIDCovid19Dict[googleIDKey]))):\n",
    "                googleIDSeverity_dict[googleIDKey] = \"low\"\n",
    "                \n",
    "            elif (((normalCount)/googleIDCovid19Dict[googleIDKey] > (highCount)/googleIDCovid19Dict[googleIDKey]) and ((normalCount)/googleIDCovid19Dict[googleIDKey] > ((lowCount)/googleIDCovid19Dict[googleIDKey]))):\n",
    "                googleIDSeverity_dict[googleIDKey] = \"normal\"\n",
    "                \n",
    "            elif (((highCount)/googleIDCovid19Dict[googleIDKey] > (lowCount)/googleIDCovid19Dict[googleIDKey]) and ((highCount)/googleIDCovid19Dict[googleIDKey] > ((normalCount)/googleIDCovid19Dict[googleIDKey]))):\n",
    "                googleIDSeverity_dict[googleIDKey] = \"high\"\n",
    "                \n",
    "        \n",
    "    return googleIDSeverity_dict\n",
    "    \n",
    "                \n",
    "        \n",
    "            \n",
    "            \n",
    "            \n",
    "            "
   ]
  },
  {
   "cell_type": "code",
   "execution_count": 176,
   "metadata": {},
   "outputs": [],
   "source": [
    "googleIDSeverity_dict = severityOfArea(googleIDCovid19Dict, visit_dictionary, googlePlaceID);"
   ]
  },
  {
   "cell_type": "code",
   "execution_count": 178,
   "metadata": {},
   "outputs": [
    {
     "name": "stdout",
     "output_type": "stream",
     "text": [
      "normal\n"
     ]
    }
   ],
   "source": [
    "print(googleIDSeverity_dict[\"ChIJs--MqP1YwokRBwAhjXWIHn8\"])"
   ]
  },
  {
   "cell_type": "code",
   "execution_count": null,
   "metadata": {},
   "outputs": [],
   "source": []
  }
 ],
 "metadata": {
  "kernelspec": {
   "display_name": "Python 3",
   "language": "python",
   "name": "python3"
  },
  "language_info": {
   "codemirror_mode": {
    "name": "ipython",
    "version": 3
   },
   "file_extension": ".py",
   "mimetype": "text/x-python",
   "name": "python",
   "nbconvert_exporter": "python",
   "pygments_lexer": "ipython3",
   "version": "3.7.3"
  }
 },
 "nbformat": 4,
 "nbformat_minor": 2
}
